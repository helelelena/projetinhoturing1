{
  "nbformat": 4,
  "nbformat_minor": 0,
  "metadata": {
    "colab": {
      "name": "projetinho1.ipynb",
      "provenance": []
    },
    "kernelspec": {
      "name": "python3",
      "display_name": "Python 3"
    },
    "language_info": {
      "name": "python"
    }
  },
  "cells": [
    {
      "cell_type": "markdown",
      "metadata": {
        "id": "lEKbIAnMRCXv"
      },
      "source": [
        "###importar bibliotecas e dataset\n",
        "\n"
      ]
    },
    {
      "cell_type": "code",
      "metadata": {
        "id": "0kICXXULPpGo",
        "colab": {
          "resources": {
            "http://localhost:8080/nbextensions/google.colab/files.js": {
              "data": "Ly8gQ29weXJpZ2h0IDIwMTcgR29vZ2xlIExMQwovLwovLyBMaWNlbnNlZCB1bmRlciB0aGUgQXBhY2hlIExpY2Vuc2UsIFZlcnNpb24gMi4wICh0aGUgIkxpY2Vuc2UiKTsKLy8geW91IG1heSBub3QgdXNlIHRoaXMgZmlsZSBleGNlcHQgaW4gY29tcGxpYW5jZSB3aXRoIHRoZSBMaWNlbnNlLgovLyBZb3UgbWF5IG9idGFpbiBhIGNvcHkgb2YgdGhlIExpY2Vuc2UgYXQKLy8KLy8gICAgICBodHRwOi8vd3d3LmFwYWNoZS5vcmcvbGljZW5zZXMvTElDRU5TRS0yLjAKLy8KLy8gVW5sZXNzIHJlcXVpcmVkIGJ5IGFwcGxpY2FibGUgbGF3IG9yIGFncmVlZCB0byBpbiB3cml0aW5nLCBzb2Z0d2FyZQovLyBkaXN0cmlidXRlZCB1bmRlciB0aGUgTGljZW5zZSBpcyBkaXN0cmlidXRlZCBvbiBhbiAiQVMgSVMiIEJBU0lTLAovLyBXSVRIT1VUIFdBUlJBTlRJRVMgT1IgQ09ORElUSU9OUyBPRiBBTlkgS0lORCwgZWl0aGVyIGV4cHJlc3Mgb3IgaW1wbGllZC4KLy8gU2VlIHRoZSBMaWNlbnNlIGZvciB0aGUgc3BlY2lmaWMgbGFuZ3VhZ2UgZ292ZXJuaW5nIHBlcm1pc3Npb25zIGFuZAovLyBsaW1pdGF0aW9ucyB1bmRlciB0aGUgTGljZW5zZS4KCi8qKgogKiBAZmlsZW92ZXJ2aWV3IEhlbHBlcnMgZm9yIGdvb2dsZS5jb2xhYiBQeXRob24gbW9kdWxlLgogKi8KKGZ1bmN0aW9uKHNjb3BlKSB7CmZ1bmN0aW9uIHNwYW4odGV4dCwgc3R5bGVBdHRyaWJ1dGVzID0ge30pIHsKICBjb25zdCBlbGVtZW50ID0gZG9jdW1lbnQuY3JlYXRlRWxlbWVudCgnc3BhbicpOwogIGVsZW1lbnQudGV4dENvbnRlbnQgPSB0ZXh0OwogIGZvciAoY29uc3Qga2V5IG9mIE9iamVjdC5rZXlzKHN0eWxlQXR0cmlidXRlcykpIHsKICAgIGVsZW1lbnQuc3R5bGVba2V5XSA9IHN0eWxlQXR0cmlidXRlc1trZXldOwogIH0KICByZXR1cm4gZWxlbWVudDsKfQoKLy8gTWF4IG51bWJlciBvZiBieXRlcyB3aGljaCB3aWxsIGJlIHVwbG9hZGVkIGF0IGEgdGltZS4KY29uc3QgTUFYX1BBWUxPQURfU0laRSA9IDEwMCAqIDEwMjQ7CgpmdW5jdGlvbiBfdXBsb2FkRmlsZXMoaW5wdXRJZCwgb3V0cHV0SWQpIHsKICBjb25zdCBzdGVwcyA9IHVwbG9hZEZpbGVzU3RlcChpbnB1dElkLCBvdXRwdXRJZCk7CiAgY29uc3Qgb3V0cHV0RWxlbWVudCA9IGRvY3VtZW50LmdldEVsZW1lbnRCeUlkKG91dHB1dElkKTsKICAvLyBDYWNoZSBzdGVwcyBvbiB0aGUgb3V0cHV0RWxlbWVudCB0byBtYWtlIGl0IGF2YWlsYWJsZSBmb3IgdGhlIG5leHQgY2FsbAogIC8vIHRvIHVwbG9hZEZpbGVzQ29udGludWUgZnJvbSBQeXRob24uCiAgb3V0cHV0RWxlbWVudC5zdGVwcyA9IHN0ZXBzOwoKICByZXR1cm4gX3VwbG9hZEZpbGVzQ29udGludWUob3V0cHV0SWQpOwp9CgovLyBUaGlzIGlzIHJvdWdobHkgYW4gYXN5bmMgZ2VuZXJhdG9yIChub3Qgc3VwcG9ydGVkIGluIHRoZSBicm93c2VyIHlldCksCi8vIHdoZXJlIHRoZXJlIGFyZSBtdWx0aXBsZSBhc3luY2hyb25vdXMgc3RlcHMgYW5kIHRoZSBQeXRob24gc2lkZSBpcyBnb2luZwovLyB0byBwb2xsIGZvciBjb21wbGV0aW9uIG9mIGVhY2ggc3RlcC4KLy8gVGhpcyB1c2VzIGEgUHJvbWlzZSB0byBibG9jayB0aGUgcHl0aG9uIHNpZGUgb24gY29tcGxldGlvbiBvZiBlYWNoIHN0ZXAsCi8vIHRoZW4gcGFzc2VzIHRoZSByZXN1bHQgb2YgdGhlIHByZXZpb3VzIHN0ZXAgYXMgdGhlIGlucHV0IHRvIHRoZSBuZXh0IHN0ZXAuCmZ1bmN0aW9uIF91cGxvYWRGaWxlc0NvbnRpbnVlKG91dHB1dElkKSB7CiAgY29uc3Qgb3V0cHV0RWxlbWVudCA9IGRvY3VtZW50LmdldEVsZW1lbnRCeUlkKG91dHB1dElkKTsKICBjb25zdCBzdGVwcyA9IG91dHB1dEVsZW1lbnQuc3RlcHM7CgogIGNvbnN0IG5leHQgPSBzdGVwcy5uZXh0KG91dHB1dEVsZW1lbnQubGFzdFByb21pc2VWYWx1ZSk7CiAgcmV0dXJuIFByb21pc2UucmVzb2x2ZShuZXh0LnZhbHVlLnByb21pc2UpLnRoZW4oKHZhbHVlKSA9PiB7CiAgICAvLyBDYWNoZSB0aGUgbGFzdCBwcm9taXNlIHZhbHVlIHRvIG1ha2UgaXQgYXZhaWxhYmxlIHRvIHRoZSBuZXh0CiAgICAvLyBzdGVwIG9mIHRoZSBnZW5lcmF0b3IuCiAgICBvdXRwdXRFbGVtZW50Lmxhc3RQcm9taXNlVmFsdWUgPSB2YWx1ZTsKICAgIHJldHVybiBuZXh0LnZhbHVlLnJlc3BvbnNlOwogIH0pOwp9CgovKioKICogR2VuZXJhdG9yIGZ1bmN0aW9uIHdoaWNoIGlzIGNhbGxlZCBiZXR3ZWVuIGVhY2ggYXN5bmMgc3RlcCBvZiB0aGUgdXBsb2FkCiAqIHByb2Nlc3MuCiAqIEBwYXJhbSB7c3RyaW5nfSBpbnB1dElkIEVsZW1lbnQgSUQgb2YgdGhlIGlucHV0IGZpbGUgcGlja2VyIGVsZW1lbnQuCiAqIEBwYXJhbSB7c3RyaW5nfSBvdXRwdXRJZCBFbGVtZW50IElEIG9mIHRoZSBvdXRwdXQgZGlzcGxheS4KICogQHJldHVybiB7IUl0ZXJhYmxlPCFPYmplY3Q+fSBJdGVyYWJsZSBvZiBuZXh0IHN0ZXBzLgogKi8KZnVuY3Rpb24qIHVwbG9hZEZpbGVzU3RlcChpbnB1dElkLCBvdXRwdXRJZCkgewogIGNvbnN0IGlucHV0RWxlbWVudCA9IGRvY3VtZW50LmdldEVsZW1lbnRCeUlkKGlucHV0SWQpOwogIGlucHV0RWxlbWVudC5kaXNhYmxlZCA9IGZhbHNlOwoKICBjb25zdCBvdXRwdXRFbGVtZW50ID0gZG9jdW1lbnQuZ2V0RWxlbWVudEJ5SWQob3V0cHV0SWQpOwogIG91dHB1dEVsZW1lbnQuaW5uZXJIVE1MID0gJyc7CgogIGNvbnN0IHBpY2tlZFByb21pc2UgPSBuZXcgUHJvbWlzZSgocmVzb2x2ZSkgPT4gewogICAgaW5wdXRFbGVtZW50LmFkZEV2ZW50TGlzdGVuZXIoJ2NoYW5nZScsIChlKSA9PiB7CiAgICAgIHJlc29sdmUoZS50YXJnZXQuZmlsZXMpOwogICAgfSk7CiAgfSk7CgogIGNvbnN0IGNhbmNlbCA9IGRvY3VtZW50LmNyZWF0ZUVsZW1lbnQoJ2J1dHRvbicpOwogIGlucHV0RWxlbWVudC5wYXJlbnRFbGVtZW50LmFwcGVuZENoaWxkKGNhbmNlbCk7CiAgY2FuY2VsLnRleHRDb250ZW50ID0gJ0NhbmNlbCB1cGxvYWQnOwogIGNvbnN0IGNhbmNlbFByb21pc2UgPSBuZXcgUHJvbWlzZSgocmVzb2x2ZSkgPT4gewogICAgY2FuY2VsLm9uY2xpY2sgPSAoKSA9PiB7CiAgICAgIHJlc29sdmUobnVsbCk7CiAgICB9OwogIH0pOwoKICAvLyBXYWl0IGZvciB0aGUgdXNlciB0byBwaWNrIHRoZSBmaWxlcy4KICBjb25zdCBmaWxlcyA9IHlpZWxkIHsKICAgIHByb21pc2U6IFByb21pc2UucmFjZShbcGlja2VkUHJvbWlzZSwgY2FuY2VsUHJvbWlzZV0pLAogICAgcmVzcG9uc2U6IHsKICAgICAgYWN0aW9uOiAnc3RhcnRpbmcnLAogICAgfQogIH07CgogIGNhbmNlbC5yZW1vdmUoKTsKCiAgLy8gRGlzYWJsZSB0aGUgaW5wdXQgZWxlbWVudCBzaW5jZSBmdXJ0aGVyIHBpY2tzIGFyZSBub3QgYWxsb3dlZC4KICBpbnB1dEVsZW1lbnQuZGlzYWJsZWQgPSB0cnVlOwoKICBpZiAoIWZpbGVzKSB7CiAgICByZXR1cm4gewogICAgICByZXNwb25zZTogewogICAgICAgIGFjdGlvbjogJ2NvbXBsZXRlJywKICAgICAgfQogICAgfTsKICB9CgogIGZvciAoY29uc3QgZmlsZSBvZiBmaWxlcykgewogICAgY29uc3QgbGkgPSBkb2N1bWVudC5jcmVhdGVFbGVtZW50KCdsaScpOwogICAgbGkuYXBwZW5kKHNwYW4oZmlsZS5uYW1lLCB7Zm9udFdlaWdodDogJ2JvbGQnfSkpOwogICAgbGkuYXBwZW5kKHNwYW4oCiAgICAgICAgYCgke2ZpbGUudHlwZSB8fCAnbi9hJ30pIC0gJHtmaWxlLnNpemV9IGJ5dGVzLCBgICsKICAgICAgICBgbGFzdCBtb2RpZmllZDogJHsKICAgICAgICAgICAgZmlsZS5sYXN0TW9kaWZpZWREYXRlID8gZmlsZS5sYXN0TW9kaWZpZWREYXRlLnRvTG9jYWxlRGF0ZVN0cmluZygpIDoKICAgICAgICAgICAgICAgICAgICAgICAgICAgICAgICAgICAgJ24vYSd9IC0gYCkpOwogICAgY29uc3QgcGVyY2VudCA9IHNwYW4oJzAlIGRvbmUnKTsKICAgIGxpLmFwcGVuZENoaWxkKHBlcmNlbnQpOwoKICAgIG91dHB1dEVsZW1lbnQuYXBwZW5kQ2hpbGQobGkpOwoKICAgIGNvbnN0IGZpbGVEYXRhUHJvbWlzZSA9IG5ldyBQcm9taXNlKChyZXNvbHZlKSA9PiB7CiAgICAgIGNvbnN0IHJlYWRlciA9IG5ldyBGaWxlUmVhZGVyKCk7CiAgICAgIHJlYWRlci5vbmxvYWQgPSAoZSkgPT4gewogICAgICAgIHJlc29sdmUoZS50YXJnZXQucmVzdWx0KTsKICAgICAgfTsKICAgICAgcmVhZGVyLnJlYWRBc0FycmF5QnVmZmVyKGZpbGUpOwogICAgfSk7CiAgICAvLyBXYWl0IGZvciB0aGUgZGF0YSB0byBiZSByZWFkeS4KICAgIGxldCBmaWxlRGF0YSA9IHlpZWxkIHsKICAgICAgcHJvbWlzZTogZmlsZURhdGFQcm9taXNlLAogICAgICByZXNwb25zZTogewogICAgICAgIGFjdGlvbjogJ2NvbnRpbnVlJywKICAgICAgfQogICAgfTsKCiAgICAvLyBVc2UgYSBjaHVua2VkIHNlbmRpbmcgdG8gYXZvaWQgbWVzc2FnZSBzaXplIGxpbWl0cy4gU2VlIGIvNjIxMTU2NjAuCiAgICBsZXQgcG9zaXRpb24gPSAwOwogICAgZG8gewogICAgICBjb25zdCBsZW5ndGggPSBNYXRoLm1pbihmaWxlRGF0YS5ieXRlTGVuZ3RoIC0gcG9zaXRpb24sIE1BWF9QQVlMT0FEX1NJWkUpOwogICAgICBjb25zdCBjaHVuayA9IG5ldyBVaW50OEFycmF5KGZpbGVEYXRhLCBwb3NpdGlvbiwgbGVuZ3RoKTsKICAgICAgcG9zaXRpb24gKz0gbGVuZ3RoOwoKICAgICAgY29uc3QgYmFzZTY0ID0gYnRvYShTdHJpbmcuZnJvbUNoYXJDb2RlLmFwcGx5KG51bGwsIGNodW5rKSk7CiAgICAgIHlpZWxkIHsKICAgICAgICByZXNwb25zZTogewogICAgICAgICAgYWN0aW9uOiAnYXBwZW5kJywKICAgICAgICAgIGZpbGU6IGZpbGUubmFtZSwKICAgICAgICAgIGRhdGE6IGJhc2U2NCwKICAgICAgICB9LAogICAgICB9OwoKICAgICAgbGV0IHBlcmNlbnREb25lID0gZmlsZURhdGEuYnl0ZUxlbmd0aCA9PT0gMCA/CiAgICAgICAgICAxMDAgOgogICAgICAgICAgTWF0aC5yb3VuZCgocG9zaXRpb24gLyBmaWxlRGF0YS5ieXRlTGVuZ3RoKSAqIDEwMCk7CiAgICAgIHBlcmNlbnQudGV4dENvbnRlbnQgPSBgJHtwZXJjZW50RG9uZX0lIGRvbmVgOwoKICAgIH0gd2hpbGUgKHBvc2l0aW9uIDwgZmlsZURhdGEuYnl0ZUxlbmd0aCk7CiAgfQoKICAvLyBBbGwgZG9uZS4KICB5aWVsZCB7CiAgICByZXNwb25zZTogewogICAgICBhY3Rpb246ICdjb21wbGV0ZScsCiAgICB9CiAgfTsKfQoKc2NvcGUuZ29vZ2xlID0gc2NvcGUuZ29vZ2xlIHx8IHt9OwpzY29wZS5nb29nbGUuY29sYWIgPSBzY29wZS5nb29nbGUuY29sYWIgfHwge307CnNjb3BlLmdvb2dsZS5jb2xhYi5fZmlsZXMgPSB7CiAgX3VwbG9hZEZpbGVzLAogIF91cGxvYWRGaWxlc0NvbnRpbnVlLAp9Owp9KShzZWxmKTsK",
              "ok": true,
              "headers": [
                [
                  "content-type",
                  "application/javascript"
                ]
              ],
              "status": 200,
              "status_text": ""
            }
          },
          "base_uri": "https://localhost:8080/",
          "height": 72
        },
        "outputId": "4461f48b-1595-4ef8-edce-6166a0bd4d7b"
      },
      "source": [
        "import numpy as np \n",
        "import pandas as pd\n",
        "import matplotlib.pyplot as plt\n",
        "import seaborn as sns\n",
        "\n",
        "from google.colab import files\n",
        "uploaded = files.upload()\n",
        "\n",
        "df = pd.read_csv('df_athlete_events.csv')"
      ],
      "execution_count": 1,
      "outputs": [
        {
          "output_type": "display_data",
          "data": {
            "text/html": [
              "\n",
              "     <input type=\"file\" id=\"files-996ce59c-6a9c-477f-ba19-c9d8c26f0c51\" name=\"files[]\" multiple disabled\n",
              "        style=\"border:none\" />\n",
              "     <output id=\"result-996ce59c-6a9c-477f-ba19-c9d8c26f0c51\">\n",
              "      Upload widget is only available when the cell has been executed in the\n",
              "      current browser session. Please rerun this cell to enable.\n",
              "      </output>\n",
              "      <script src=\"/nbextensions/google.colab/files.js\"></script> "
            ],
            "text/plain": [
              "<IPython.core.display.HTML object>"
            ]
          },
          "metadata": {}
        },
        {
          "output_type": "stream",
          "name": "stdout",
          "text": [
            "Saving df_athlete_events.csv to df_athlete_events.csv\n"
          ]
        }
      ]
    },
    {
      "cell_type": "markdown",
      "metadata": {
        "id": "LgnUi7GDKy5y"
      },
      "source": [
        "###observacoes iniciais"
      ]
    },
    {
      "cell_type": "code",
      "metadata": {
        "colab": {
          "base_uri": "https://localhost:8080/",
          "height": 0
        },
        "id": "mt81T5O3KsPR",
        "outputId": "f807dab5-d460-40d2-b657-e380e23506e5"
      },
      "source": [
        "df.head()"
      ],
      "execution_count": 38,
      "outputs": [
        {
          "output_type": "execute_result",
          "data": {
            "text/html": [
              "<div>\n",
              "<style scoped>\n",
              "    .dataframe tbody tr th:only-of-type {\n",
              "        vertical-align: middle;\n",
              "    }\n",
              "\n",
              "    .dataframe tbody tr th {\n",
              "        vertical-align: top;\n",
              "    }\n",
              "\n",
              "    .dataframe thead th {\n",
              "        text-align: right;\n",
              "    }\n",
              "</style>\n",
              "<table border=\"1\" class=\"dataframe\">\n",
              "  <thead>\n",
              "    <tr style=\"text-align: right;\">\n",
              "      <th></th>\n",
              "      <th>Athlete_ID</th>\n",
              "      <th>Name</th>\n",
              "      <th>Sex</th>\n",
              "      <th>Age</th>\n",
              "      <th>Height</th>\n",
              "      <th>Weight</th>\n",
              "      <th>Team</th>\n",
              "      <th>NOC</th>\n",
              "      <th>Games</th>\n",
              "      <th>Year</th>\n",
              "      <th>Season</th>\n",
              "      <th>City</th>\n",
              "      <th>Sport</th>\n",
              "      <th>Event</th>\n",
              "      <th>Medal</th>\n",
              "    </tr>\n",
              "  </thead>\n",
              "  <tbody>\n",
              "    <tr>\n",
              "      <th>0</th>\n",
              "      <td>4</td>\n",
              "      <td>Edgar Lindenau Aabye</td>\n",
              "      <td>M</td>\n",
              "      <td>34.0</td>\n",
              "      <td>NaN</td>\n",
              "      <td>NaN</td>\n",
              "      <td>Denmark/Sweden</td>\n",
              "      <td>DEN</td>\n",
              "      <td>1900 Summer</td>\n",
              "      <td>1900</td>\n",
              "      <td>Summer</td>\n",
              "      <td>Paris</td>\n",
              "      <td>Tug-Of-War</td>\n",
              "      <td>Tug-Of-War Men's Tug-Of-War</td>\n",
              "      <td>Gold</td>\n",
              "    </tr>\n",
              "    <tr>\n",
              "      <th>1</th>\n",
              "      <td>6</td>\n",
              "      <td>Per Knut Aaland</td>\n",
              "      <td>M</td>\n",
              "      <td>31.0</td>\n",
              "      <td>188.0</td>\n",
              "      <td>75.0</td>\n",
              "      <td>United States</td>\n",
              "      <td>USA</td>\n",
              "      <td>1992 Winter</td>\n",
              "      <td>1992</td>\n",
              "      <td>Winter</td>\n",
              "      <td>Albertville</td>\n",
              "      <td>Cross Country Skiing</td>\n",
              "      <td>Cross Country Skiing Men's 10/15 kilometres Pu...</td>\n",
              "      <td>NaN</td>\n",
              "    </tr>\n",
              "    <tr>\n",
              "      <th>2</th>\n",
              "      <td>15</td>\n",
              "      <td>Arvo Ossian Aaltonen</td>\n",
              "      <td>M</td>\n",
              "      <td>30.0</td>\n",
              "      <td>NaN</td>\n",
              "      <td>NaN</td>\n",
              "      <td>Finland</td>\n",
              "      <td>FIN</td>\n",
              "      <td>1920 Summer</td>\n",
              "      <td>1920</td>\n",
              "      <td>Summer</td>\n",
              "      <td>Antwerpen</td>\n",
              "      <td>Swimming</td>\n",
              "      <td>Swimming Men's 200 metres Breaststroke</td>\n",
              "      <td>Bronze</td>\n",
              "    </tr>\n",
              "    <tr>\n",
              "      <th>3</th>\n",
              "      <td>15</td>\n",
              "      <td>Arvo Ossian Aaltonen</td>\n",
              "      <td>M</td>\n",
              "      <td>30.0</td>\n",
              "      <td>NaN</td>\n",
              "      <td>NaN</td>\n",
              "      <td>Finland</td>\n",
              "      <td>FIN</td>\n",
              "      <td>1920 Summer</td>\n",
              "      <td>1920</td>\n",
              "      <td>Summer</td>\n",
              "      <td>Antwerpen</td>\n",
              "      <td>Swimming</td>\n",
              "      <td>Swimming Men's 400 metres Breaststroke</td>\n",
              "      <td>Bronze</td>\n",
              "    </tr>\n",
              "    <tr>\n",
              "      <th>4</th>\n",
              "      <td>16</td>\n",
              "      <td>Juhamatti Tapio Aaltonen</td>\n",
              "      <td>M</td>\n",
              "      <td>28.0</td>\n",
              "      <td>184.0</td>\n",
              "      <td>85.0</td>\n",
              "      <td>Finland</td>\n",
              "      <td>FIN</td>\n",
              "      <td>2014 Winter</td>\n",
              "      <td>2014</td>\n",
              "      <td>Winter</td>\n",
              "      <td>Sochi</td>\n",
              "      <td>Ice Hockey</td>\n",
              "      <td>Ice Hockey Men's Ice Hockey</td>\n",
              "      <td>Bronze</td>\n",
              "    </tr>\n",
              "  </tbody>\n",
              "</table>\n",
              "</div>"
            ],
            "text/plain": [
              "   Athlete_ID  ...   Medal\n",
              "0           4  ...    Gold\n",
              "1           6  ...     NaN\n",
              "2          15  ...  Bronze\n",
              "3          15  ...  Bronze\n",
              "4          16  ...  Bronze\n",
              "\n",
              "[5 rows x 15 columns]"
            ]
          },
          "metadata": {},
          "execution_count": 38
        }
      ]
    },
    {
      "cell_type": "markdown",
      "metadata": {
        "id": "rj2RuUDLK_E0"
      },
      "source": [
        "###trabalhar com dados categoricos"
      ]
    },
    {
      "cell_type": "code",
      "metadata": {
        "colab": {
          "base_uri": "https://localhost:8080/",
          "height": 390
        },
        "id": "N1qMXchQK_rK",
        "outputId": "ca717af7-a0bf-4cf0-c375-c8947838fccd"
      },
      "source": [
        "df.describe(include =['object']).T #transpor: troca colunas com linhas"
      ],
      "execution_count": 39,
      "outputs": [
        {
          "output_type": "execute_result",
          "data": {
            "text/html": [
              "<div>\n",
              "<style scoped>\n",
              "    .dataframe tbody tr th:only-of-type {\n",
              "        vertical-align: middle;\n",
              "    }\n",
              "\n",
              "    .dataframe tbody tr th {\n",
              "        vertical-align: top;\n",
              "    }\n",
              "\n",
              "    .dataframe thead th {\n",
              "        text-align: right;\n",
              "    }\n",
              "</style>\n",
              "<table border=\"1\" class=\"dataframe\">\n",
              "  <thead>\n",
              "    <tr style=\"text-align: right;\">\n",
              "      <th></th>\n",
              "      <th>count</th>\n",
              "      <th>unique</th>\n",
              "      <th>top</th>\n",
              "      <th>freq</th>\n",
              "    </tr>\n",
              "  </thead>\n",
              "  <tbody>\n",
              "    <tr>\n",
              "      <th>Name</th>\n",
              "      <td>45537</td>\n",
              "      <td>32888</td>\n",
              "      <td>Michael Fred Phelps, II</td>\n",
              "      <td>28</td>\n",
              "    </tr>\n",
              "    <tr>\n",
              "      <th>Sex</th>\n",
              "      <td>45537</td>\n",
              "      <td>4</td>\n",
              "      <td>M</td>\n",
              "      <td>32288</td>\n",
              "    </tr>\n",
              "    <tr>\n",
              "      <th>Weight</th>\n",
              "      <td>34903</td>\n",
              "      <td>188</td>\n",
              "      <td>70.0</td>\n",
              "      <td>1439</td>\n",
              "    </tr>\n",
              "    <tr>\n",
              "      <th>Team</th>\n",
              "      <td>45537</td>\n",
              "      <td>602</td>\n",
              "      <td>United States</td>\n",
              "      <td>5511</td>\n",
              "    </tr>\n",
              "    <tr>\n",
              "      <th>NOC</th>\n",
              "      <td>45537</td>\n",
              "      <td>201</td>\n",
              "      <td>USA</td>\n",
              "      <td>5953</td>\n",
              "    </tr>\n",
              "    <tr>\n",
              "      <th>Games</th>\n",
              "      <td>45537</td>\n",
              "      <td>51</td>\n",
              "      <td>2008 Summer</td>\n",
              "      <td>2316</td>\n",
              "    </tr>\n",
              "    <tr>\n",
              "      <th>Season</th>\n",
              "      <td>45537</td>\n",
              "      <td>2</td>\n",
              "      <td>Summer</td>\n",
              "      <td>38731</td>\n",
              "    </tr>\n",
              "    <tr>\n",
              "      <th>City</th>\n",
              "      <td>45537</td>\n",
              "      <td>42</td>\n",
              "      <td>London</td>\n",
              "      <td>4222</td>\n",
              "    </tr>\n",
              "    <tr>\n",
              "      <th>Sport</th>\n",
              "      <td>45537</td>\n",
              "      <td>65</td>\n",
              "      <td>Athletics</td>\n",
              "      <td>5028</td>\n",
              "    </tr>\n",
              "    <tr>\n",
              "      <th>Event</th>\n",
              "      <td>45537</td>\n",
              "      <td>760</td>\n",
              "      <td>Football Men's Football</td>\n",
              "      <td>1379</td>\n",
              "    </tr>\n",
              "    <tr>\n",
              "      <th>Medal</th>\n",
              "      <td>39775</td>\n",
              "      <td>3</td>\n",
              "      <td>Gold</td>\n",
              "      <td>13474</td>\n",
              "    </tr>\n",
              "  </tbody>\n",
              "</table>\n",
              "</div>"
            ],
            "text/plain": [
              "        count unique                      top   freq\n",
              "Name    45537  32888  Michael Fred Phelps, II     28\n",
              "Sex     45537      4                        M  32288\n",
              "Weight  34903    188                     70.0   1439\n",
              "Team    45537    602            United States   5511\n",
              "NOC     45537    201                      USA   5953\n",
              "Games   45537     51              2008 Summer   2316\n",
              "Season  45537      2                   Summer  38731\n",
              "City    45537     42                   London   4222\n",
              "Sport   45537     65                Athletics   5028\n",
              "Event   45537    760  Football Men's Football   1379\n",
              "Medal   39775      3                     Gold  13474"
            ]
          },
          "metadata": {},
          "execution_count": 39
        }
      ]
    },
    {
      "cell_type": "markdown",
      "metadata": {
        "id": "r3KDyN-PLWX9"
      },
      "source": [
        "####acessar colunas"
      ]
    },
    {
      "cell_type": "code",
      "metadata": {
        "colab": {
          "base_uri": "https://localhost:8080/"
        },
        "id": "mlV6SXCXOuWM",
        "outputId": "434daac7-1f84-45de-9b22-27b28a14c4c0"
      },
      "source": [
        "df.Name.unique() #tudo normal"
      ],
      "execution_count": 40,
      "outputs": [
        {
          "output_type": "execute_result",
          "data": {
            "text/plain": [
              "array(['Edgar Lindenau Aabye', 'Per Knut Aaland', 'Arvo Ossian Aaltonen',\n",
              "       ..., 'Galina Ivanovna Zybina (-Fyodorova)', 'Bogusaw Zych',\n",
              "       'Olesya Nikolayevna Zykina'], dtype=object)"
            ]
          },
          "metadata": {},
          "execution_count": 40
        }
      ]
    },
    {
      "cell_type": "code",
      "metadata": {
        "colab": {
          "base_uri": "https://localhost:8080/"
        },
        "id": "Qc60y43GLgL6",
        "outputId": "3946201d-ad12-4807-9ace-602046a03b35"
      },
      "source": [
        "pd.Series(df.Sex.unique()) # M, F, MALE, FEMALE, Vic vai te dar um socão, P&D >> Comunidade"
      ],
      "execution_count": 41,
      "outputs": [
        {
          "output_type": "execute_result",
          "data": {
            "text/plain": [
              "0         M\n",
              "1      MALE\n",
              "2    FEMALE\n",
              "3         F\n",
              "dtype: object"
            ]
          },
          "metadata": {},
          "execution_count": 41
        }
      ]
    },
    {
      "cell_type": "code",
      "metadata": {
        "colab": {
          "base_uri": "https://localhost:8080/"
        },
        "id": "JKw2OPjiObWo",
        "outputId": "8324f85d-958a-47f1-87b5-98751f2b6282"
      },
      "source": [
        "df.Weight.unique() #hsuahusahu"
      ],
      "execution_count": 42,
      "outputs": [
        {
          "output_type": "execute_result",
          "data": {
            "text/plain": [
              "array([nan, '75.0', '85.0', '64.0', '90.0', '87.0', '49.0', 'hsuahusahu',\n",
              "       '76.0', '83.0', '86.0', '82.0', '55.0', '67.0', '60.0', '79.0',\n",
              "       '96.0', '97.0', '70.0', '88.0', '56.0', '80.0', '59.0', '91.0',\n",
              "       '72.0', '62.0', '63.0', '130.0', '104.0', '73.0', '84.0', '125.0',\n",
              "       '50.0', '102.0', '48.0', '58.0', '78.0', '40.0', '68.0', '92.0',\n",
              "       '61.0', '95.0', '89.0', '65.0', '93.0', '77.0', '46.0', '81.0',\n",
              "       '52.0', '54.0', '57.0', '69.0', '99.0', '69.5', '51.0', '120.0',\n",
              "       '74.0', '110.0', '100.0', '66.0', '47.0', '116.0', '107.0', '53.0',\n",
              "       '45.0', '105.0', '109.0', '156.0', '71.0', '98.0', '160.0',\n",
              "       '106.0', '146.0', '44.0', '138.0', '141.0', '94.0', '118.0',\n",
              "       '101.0', '39.0', '32.0', '112.0', '115.0', '74.5', '121.0',\n",
              "       '135.0', '111.0', '43.0', '36.0', '67.5', '114.0', '132.0', '65.5',\n",
              "       '42.0', '59.5', '127.5', '108.0', '35.0', '117.0', '103.0', '58.5',\n",
              "       '214.0', '113.0', '146.5', '116.5', '140.0', '38.0', '101.5',\n",
              "       '154.0', '57.5', '136.0', '127.0', '102.5', '170.0', '126.0',\n",
              "       '77.3333333333333', '122.0', '55.5', '41.0', '123.0', '34.0',\n",
              "       '150.0', '109.5', '37.0', '70.5', '71.5', '30.0', '76.5', '64.5',\n",
              "       '33.0', '129.0', '137.0', '128.0', '73.5', '54.5', '56.5', '63.5',\n",
              "       '134.0', '147.0', '100.5', '78.5', '82.5', '61.5', '83.5', '77.5',\n",
              "       '53.5', '87.5', '124.0', '72.5', '88.5', '68.5', '81.5', '89.5',\n",
              "       '167.0', '91.5', '79.5', '66.5', '85.5', '108.5', '142.0', '86.5',\n",
              "       '106.5', '60.5', '135.5', '31.0', '148.0', '93.5', '97.5', '103.5',\n",
              "       '175.0', '90.5', '131.0', '145.0', '119.0', '155.0', '139.0',\n",
              "       '52.5', '104.5', '143.0', '105.5', '75.5', '84.5', '92.5', '182.0',\n",
              "       '62.5', '130.5', '28.0', '163.0', '133.0'], dtype=object)"
            ]
          },
          "metadata": {},
          "execution_count": 42
        }
      ]
    },
    {
      "cell_type": "code",
      "metadata": {
        "colab": {
          "base_uri": "https://localhost:8080/"
        },
        "id": "TV3dGmWqLMvM",
        "outputId": "447a8b0c-b703-4c73-f7fa-5e526bfbf050"
      },
      "source": [
        "df.Team.unique() "
      ],
      "execution_count": 43,
      "outputs": [
        {
          "output_type": "execute_result",
          "data": {
            "text/plain": [
              "array(['Denmark/Sweden', 'United States', 'Finland', 'Norway', 'Taifun',\n",
              "       'France', 'Italy', 'Spain', 'Azerbaijan', 'Russia', 'Argentina',\n",
              "       'Belarus', 'Cameroon', 'Hungary', 'Thessalonki-1', 'Australia',\n",
              "       'Egypt', 'Iran', 'Canada', 'Pakistan', 'Soviet Union',\n",
              "       'Uzbekistan', 'Tajikistan', 'Unified Team', 'Japan', 'Ethiopia',\n",
              "       'Switzerland', 'East Germany', 'Germany', 'Monaco', 'Fornebo',\n",
              "       'Vesper Boat Club', 'Sweden', 'South Africa', 'Turkey', 'Bulgaria',\n",
              "       'Great Britain', 'Poland', 'Djibouti', 'Jordan', 'Romania', 'Cuba',\n",
              "       'Puerto Rico', 'Venezuela', 'Mexico', 'Ghana', 'Morocco',\n",
              "       'Netherlands', 'New Zealand', 'Switzerland-1', 'Switzerland-2',\n",
              "       'Uruguay', 'Denmark', 'Czechoslovakia', 'Nigeria', 'Kenya',\n",
              "       'Brazil', 'France-1', 'Germany-2', 'Austria', 'Lithuania',\n",
              "       'Belgium', 'Stella-2', 'United States-1', 'West Germany',\n",
              "       'Large boat, Central Naval Prep School \"Poros\"-1', 'Benin',\n",
              "       'Panama', 'El Salvador', 'Indonesia', 'Malaysia', 'Indonesia-1',\n",
              "       'Germany-1', 'South Korea', 'Lucky Girl-1', 'Mutafo', 'Chile',\n",
              "       'Mauritania', 'Great Britain-1',\n",
              "       'Union des Socits Franais de Sports Athletiques', 'Ukraine',\n",
              "       'Greece', 'Serbia and Montenegro', 'Bissbi', 'Uganda', 'Iraq',\n",
              "       'Syria', 'Qatar', 'Kuwait', 'Oman', 'Palestine',\n",
              "       'Individual Olympic Athletes', 'Saudi Arabia',\n",
              "       'United Arab Emirates', 'Croatia', 'Colombia', 'France-3',\n",
              "       'Martha-1', 'Soviet Union-2', 'Armenia', 'Serbia', 'Iceland',\n",
              "       'Niger', 'United States Virgin Islands', 'Heatherbell',\n",
              "       'Papua New Guinea', 'Sudan', 'India', 'Bosnia and Herzegovina',\n",
              "       'Brazil-1', 'Algeria', 'USFSA', 'Jamaica', 'Galerna', 'Heira II',\n",
              "       'Nykjbings paa Falster', 'Trinidad and Tobago', 'Ireland-2',\n",
              "       \"Cote d'Ivoire\", 'Mohawk Indians-2', 'Tornado', 'Elsie',\n",
              "       'Philippines', 'Italy-2', 'Luxembourg', 'Mound City Rowing Club-2',\n",
              "       'Ali-Baba II', 'East Germany-1', 'Favorite Hammonia-3', 'Portugal',\n",
              "       'Botswana', 'Refugee Olympic Athletes', 'Frankfurt Club',\n",
              "       'Tunisia', 'South Korea-2', 'North Korea', 'China', 'Canada-1',\n",
              "       'Yugoslavia', 'Tip', 'Madagascar', '#ForaBolsonaro', 'Norna',\n",
              "       'Magda IX', 'Guyana', 'Kazakhstan', 'Austria-1', 'Israel',\n",
              "       'Japan-1', 'Great Britain-2', 'Ireland', 'Mosk II', 'Italy-1',\n",
              "       'Elisabeth X', 'British Virgin Islands',\n",
              "       'Ludwigshafener Ruderverein', 'Dominican Republic', 'Guyoni',\n",
              "       'Georgia', 'Gallant', 'Hera-1', 'Swedish Star', 'Estonia',\n",
              "       'Carabinier-15', 'Haiti', 'Kerstin-1', 'Ukraine-2', 'Russia-1',\n",
              "       'Czech Republic', 'Afghanistan', 'Slovakia', 'Saar', 'Bluebottle',\n",
              "       'West Germany-1', 'Snap', 'Paraguay', 'Toronto Argonauts',\n",
              "       'England-1', 'Bahamas', 'Australasia', 'United States-2',\n",
              "       'Argonaut Rowing Club', 'Greece-1',\n",
              "       'Life boat naval ship \"Spetsai\"-1', 'Pan', 'Montenegro',\n",
              "       'Leander Club-2', 'London City Police-1', 'Guatemala', 'Andorra',\n",
              "       'Berliner Ruderverein von 1876-2', \"Christian Brothers' College-1\",\n",
              "       'Angola', 'Racing Club de France', 'Bingo', 'Crabe II-1',\n",
              "       'Crabe II-4', 'Nina Claire-2', 'Slovenia', 'Australia-1',\n",
              "       'Mouchette-2', 'Tanzania', 'Moseley Wanderers',\n",
              "       'Chicago Athletic Association-2', 'Devon and Somerset Wanderers',\n",
              "       'Bermuda', 'Lebanon', 'Mauritius', 'Unified Team-2', 'Albania',\n",
              "       'Kyrgyzstan', 'East Germany-2', 'Barbados', 'Symphony', 'Peru',\n",
              "       'Marinai della nave da guerra \"Varese\"', 'San Marino', 'Lalage',\n",
              "       'Gallia II', 'Soviet Union-1', 'Malta', 'Kullan', 'France-2',\n",
              "       'Amateur Athletic Association', 'Widgeon', 'Foxhunters Hurlingham',\n",
              "       'Thames Rowing Club', 'Russia-2', 'Erna Signe', 'Sirene',\n",
              "       'Romania-1', 'Socit Nautique de Bayonne-1',\n",
              "       'Socit Nautique de Bayonne-2', 'White Lady', 'Web II',\n",
              "       'Pistoja/Firenze', 'Tritons Lillois-2', 'Boreas-2',\n",
              "       'New York Turnverein, New York', 'Italia', 'Angelita',\n",
              "       'Burkina Faso', 'Latvia', 'Esterel-1', 'Gabon', 'Buraddoo',\n",
              "       'Heroine', 'Atlanta', 'Germania II', 'Wannsee',\n",
              "       'Polyteknisk Roklub-1', 'Canada-2', 'Sri Lanka', 'Nina',\n",
              "       'Ormsund Roklub-2', 'Chuckles', 'Winnipeg Shamrocks-1', 'Olle',\n",
              "       'Guam', 'Czechoslovakia-2', 'Bera', 'Netherlands Antilles',\n",
              "       'Slaghoken', 'Slaghoken II', 'Great Britain/Germany', 'Swift',\n",
              "       'Thailand', \"L'Aile VI\", \"Cercle de l'Aviron Roubaix-4\", 'Togo',\n",
              "       'Caprice', 'New College, Oxford-2', 'Vision',\n",
              "       'Cambridge University Boat Club-2', 'St. Rose-2',\n",
              "       'Minerva Amsterdam', 'New York Athletic Club-1',\n",
              "       'St. Louis Southwest Turnverein #1-2', 'Jo', 'Namoussa',\n",
              "       'Netherlands-1', 'Royal Club Nautique de Gand',\n",
              "       'Roddklubben af 1912-1', 'Bucintoro Venezia-1',\n",
              "       'Bucintoro Venezia', 'Liechtenstein', 'Austria-2',\n",
              "       'Edelweiss II-1', 'Boston Archers', 'Upton Park FC',\n",
              "       'BLO Polo Club, Rugby', 'Hurlingham-2', 'Leander Club-1',\n",
              "       'Western Rowing Club-3', 'Soviet Union-3', 'Nepal',\n",
              "       'Libellule de Paris', 'Amstel Amsterdam', 'Scotland-3',\n",
              "       'Liverpool Police Team-2', 'United States Golf Association-3',\n",
              "       'Trans-Mississippi Golf Association-2', 'China-1', 'Sarcelle-3',\n",
              "       'Tango', 'Brynhild-2', 'Zimbabwe',\n",
              "       'Pupilles de Neptune de Lille #2-1', 'Ecuador', 'Cobweb-1',\n",
              "       'Elvis Va', 'Oranje', 'Willem-Six', 'Nicaragua', 'Greece-2',\n",
              "       'Honduras', 'Great Britain-3', 'Barion/Bari-2',\n",
              "       'K Division Metropolitan Police Team-3', 'Hong Kong', 'Complex II',\n",
              "       'Malawi', 'Chinese Taipei', 'Quand-Mme-2', 'Smyrna', 'Singapore',\n",
              "       'Malaysia-1', 'Mongolia', 'Zambia', 'Galt Football Club',\n",
              "       'Venilia', 'Moldova', 'Cincinnati Archers', 'Australia-2',\n",
              "       'Osborne Swimming Club, Manchester',\n",
              "       'Brussels Swimming and Water Polo Club', 'Ancora',\n",
              "       'Saint Kitts and Nevis', 'Wales-4', 'Gem', 'Ballerina IV',\n",
              "       'Chicago Athletic Association', 'Santa Maria', 'Dormy-1', 'Jest',\n",
              "       'Magdalen College Boat Club-1', 'Western Golf Association-1',\n",
              "       'United States-3', 'Samoa', 'Scotia', 'Elisabeth V',\n",
              "       'United Arab Republic', 'Fiji', 'New York Athletic Club #1-1',\n",
              "       'Cornwall', 'Espadarte', 'Kurush II', 'Gwendoline-2',\n",
              "       'United States/France', 'Antwerpia V', 'Lerina',\n",
              "       'Bagatelle Polo Club, Paris', 'Bem II', 'Hollandia', 'Aphrodite',\n",
              "       'Bonzo', 'Socit Nautique de la Basse Seine-1', 'Univ. of Brussels',\n",
              "       'Rowing Club Castillon-3', 'China-2', 'Senegal',\n",
              "       'Century Boat Club-1', 'Phalainis ton Thorichtou \"Hydra\"-2',\n",
              "       'Aruba', 'Silja', 'Unified Team-1', 'United States/Great Britain',\n",
              "       'Mignon-3', 'Favorite-1', 'St. Louis Amateur Athletic Association',\n",
              "       'Naiad', 'Latvia-1', 'Gitana-2', 'Gitana-21',\n",
              "       'Central Turnverein, Chicago', 'Argentina-2', 'Berliner Ruderclub',\n",
              "       'Turnverein Vorwrts, Chicago', 'Cayman Islands', 'West Germany-2',\n",
              "       'May Be', 'Galejan', 'Brazil-2', 'Llanoria', 'Marmi II-1',\n",
              "       'Kitty-1', 'Denmark-2', 'A North American Team', 'Nirefs',\n",
              "       'Missouri Athletic Club-3', 'Roklubb Kbnhavn-2', 'Tutti V',\n",
              "       'Leander Club #2-2', 'Tonga', 'Encore', 'Seawanhaka Boat Club-1',\n",
              "       'Gem IV', 'Ludwigshafener Ruder Verein-1', 'Leander Club #1-1',\n",
              "       'Grifo IV', 'Spain-1', 'Sweden-1', 'Sweden-3', 'Gyrinus-1',\n",
              "       'Passaic Turnverein, Passaic', 'Australia/Great Britain',\n",
              "       'Milwaukee Athletic Club-1', 'Guinea', 'Skum', 'Emily',\n",
              "       'Socit Nautique de la Basse Seine-2', 'Namibia',\n",
              "       'St. Louis Southwest Turnverein #2-3', 'Suriname',\n",
              "       'United States-4', 'South Korea-1', 'Cambodia',\n",
              "       'West Indies Federation', 'Marshall Islands', 'Baby-1', 'Femur-1',\n",
              "       'Bamba', 'Bohemia', 'Germania Ruder Club, Hamburg-2',\n",
              "       'Omilos Ereton Smyrnis', 'Sierra Leone', 'Jupiter',\n",
              "       'Philadelphia Turngemeinde, Philadelphia', 'England', 'Latvia-2',\n",
              "       'Deutscher Schwimm Verband Berlin', 'Shrew II', 'Sylvia',\n",
              "       'Slovakia-2', 'Don Schufro', 'Vinga-1', 'Sans Atout-1',\n",
              "       'Nurdug II', 'Eleda', 'Beatrijs III-1', 'Lesotho',\n",
              "       'Czech Republic-1', 'Vietnam', 'Ravenswood Boat Club-2', 'Irene',\n",
              "       'Sif', 'Djinn', 'Ukraine-1', 'Mascotte', 'Bona Fide', 'Laurea-1',\n",
              "       'Sorais-2', 'Minotaur', 'Zut', 'Tan-Fe-Pah', 'Macedonia', 'Joy',\n",
              "       'Xantippa', 'Bahrain', 'Grenada', 'Raili', 'Ralia', 'Gambia',\n",
              "       'Clearwater', 'Sweden-2', 'Denmark-1', 'Macky VI', 'Nrnberg',\n",
              "       'Cyprus', 'Rush VII', 'Rush V', 'Ethnikos Gymnastikos Syllogos',\n",
              "       'Hungary-1', 'Kosovo', 'Bonaparte', 'Russia-3', 'Yemen', 'Eritrea',\n",
              "       'Kristiania Roklub-1', 'Hong Kong-2', 'Czech Republic-2',\n",
              "       'Lully II', 'Fram', 'Sildra-1', 'Poland-1', 'Sonja II', 'Rostock',\n",
              "       'Malaya', 'Solomon Islands', 'Sunshine', 'Omas Helliniki P. S.',\n",
              "       'Pupilles de Neptune de Lille-1', 'North Korea-1', 'Combine',\n",
              "       'Saint Vincent and the Grenadines', 'Ireland-3', 'Spain-2',\n",
              "       'Kathleen', 'Club Nautique de Lyon-2', 'Starita', 'Frimousse',\n",
              "       'France/Great Britain', 'Crete', 'Dominica',\n",
              "       'Societ Nautique de la Marne-1', 'Costa Rica', 'Mozambique',\n",
              "       'Japan-2', 'Potomac Archers', 'Belize',\n",
              "       'Socit Nautique de Bayonne', 'Hannover', 'Scamasaxe-2',\n",
              "       'Scamasaxe-3', 'Turquoise-1', 'Roehampton-1',\n",
              "       'Antigua and Barbuda', 'Nadine', 'Rose Pompon', 'Poland-2',\n",
              "       'Lady C', 'Belgium-1', 'Congo (Kinshasa)', 'North Yemen', 'Hi-Hi',\n",
              "       'Atalanta Boat Club-1', 'Atalanta Boat Club-2',\n",
              "       'New York Athletic Club', 'Kiribati', 'Yeoman V', 'Myanmar',\n",
              "       'Gustel X', 'Aschenbrodel', 'Swaziland', 'Cook Islands', 'Burundi',\n",
              "       'Barrenjoey', 'Rwanda', 'Hojwa', 'Danuta', 'Libya', 'Ireland-1',\n",
              "       'Pandora', 'Peiraikos Syndesmos-2', 'Humbug V', 'Demi-Mondaine-15',\n",
              "       'Margaret', 'Comanche', 'Cicely-1', \"Ma'Lindo\", 'Alain IV',\n",
              "       'Independent Rowing Club-3', 'Uzbekistan-1', 'Orion', 'Liberia',\n",
              "       'Merope', 'Merope III', 'Czechoslovakia-1',\n",
              "       'Bohemia/Great Britain', 'Fantlet-7', 'Congo (Brazzaville)',\n",
              "       'Lyn-2', 'Sunrise', 'United States Virgin Islands-2', 'Falcon IV',\n",
              "       'Potsdam', 'China-3', 'Malaysia-2', 'India-1', 'Hilarius',\n",
              "       'Norway-2', 'Nauru', 'Glider', 'Germany-3', 'Ceres II',\n",
              "       'Australia-3', 'Rhodesia', 'Norway-1', 'Mac Miche', 'Camille',\n",
              "       'South St Louis Turnverein, St Louis', 'Formosa', 'Salinero',\n",
              "       'Ubu', 'Hungary-2', 'Athens-2', 'Federated States of Micronesia',\n",
              "       'Satchmo', 'Sea Dog-2', 'Scotland', 'Bohemia-2', 'Digby'],\n",
              "      dtype=object)"
            ]
          },
          "metadata": {},
          "execution_count": 43
        }
      ]
    },
    {
      "cell_type": "code",
      "metadata": {
        "colab": {
          "base_uri": "https://localhost:8080/"
        },
        "id": "rvyVc6KeLrXY",
        "outputId": "0671e765-cb38-4998-e50d-afd41c0eff2a"
      },
      "source": [
        "df.NOC.unique() #tudo normal"
      ],
      "execution_count": 44,
      "outputs": [
        {
          "output_type": "execute_result",
          "data": {
            "text/plain": [
              "array(['DEN', 'USA', 'FIN', 'NOR', 'FRA', 'ITA', 'ESP', 'AZE', 'RUS',\n",
              "       'ARG', 'BLR', 'CMR', 'HUN', 'GRE', 'AUS', 'EGY', 'IRI', 'CAN',\n",
              "       'PAK', 'URS', 'UZB', 'TJK', 'EUN', 'JPN', 'ETH', 'SUI', 'GDR',\n",
              "       'GER', 'MON', 'SWE', 'RSA', 'TUR', 'BUL', 'GBR', 'POL', 'DJI',\n",
              "       'JOR', 'ROU', 'CUB', 'PUR', 'VEN', 'MEX', 'GHA', 'MAR', 'NED',\n",
              "       'NZL', 'URU', 'TCH', 'NGR', 'KEN', 'BRA', 'AUT', 'LTU', 'BEL',\n",
              "       'FRG', 'BEN', 'PAN', 'ESA', 'INA', 'MAS', 'KOR', 'CHI', 'MTN',\n",
              "       'UKR', 'SCG', 'UGA', 'IRQ', 'SYR', 'QAT', 'KUW', 'OMA', 'PLE',\n",
              "       'IOA', 'KSA', 'UAE', 'CRO', 'COL', 'ARM', 'SRB', 'ISL', 'NIG',\n",
              "       'ISV', 'PNG', 'SUD', 'IND', 'BIH', 'ALG', 'JAM', 'TTO', 'CIV',\n",
              "       'PHI', 'LUX', 'POR', 'BOT', 'ROT', 'TUN', 'PRK', 'CHN', 'YUG',\n",
              "       'MAD', 'GUY', 'KAZ', 'ISR', 'IRL', 'IVB', 'DOM', 'GEO', 'EST',\n",
              "       'HAI', 'CZE', 'AFG', 'SVK', 'SAA', 'PAR', 'BAH', 'ANZ', 'MNE',\n",
              "       'GUA', 'AND', 'ANG', 'SLO', 'TAN', 'BER', 'LIB', 'MRI', 'ALB',\n",
              "       'KGZ', 'BAR', 'PER', 'SMR', 'MLT', 'BUR', 'LAT', 'GAB', 'SRI',\n",
              "       'GUM', 'AHO', 'THA', 'TOG', 'LIE', 'NEP', 'ZIM', 'ECU', 'NCA',\n",
              "       'HON', 'HKG', 'MAW', 'TPE', 'SGP', 'MGL', 'ZAM', 'MDA', 'SKN',\n",
              "       'SAM', 'UAR', 'FIJ', 'SEN', 'ARU', 'CAY', 'TGA', 'GUI', 'NAM',\n",
              "       'SUR', 'CAM', 'WIF', 'MHL', 'BOH', 'SLE', 'LES', 'VIE', 'MKD',\n",
              "       'BRN', 'GRN', 'GAM', 'CYP', 'KOS', 'YEM', 'ERI', 'MAL', 'SOL',\n",
              "       'VIN', 'CRT', 'DMA', 'CRC', 'MOZ', 'BIZ', 'ANT', 'COD', 'YAR',\n",
              "       'KIR', 'MYA', 'SWZ', 'COK', 'BDI', 'RWA', 'LBA', 'LBR', 'CGO',\n",
              "       'NRU', 'RHO', 'FSM'], dtype=object)"
            ]
          },
          "metadata": {},
          "execution_count": 44
        }
      ]
    },
    {
      "cell_type": "code",
      "metadata": {
        "colab": {
          "base_uri": "https://localhost:8080/"
        },
        "id": "mvDdYhQLPQet",
        "outputId": "977b5793-d7eb-4434-f4b1-0a6a3c295cee"
      },
      "source": [
        "df.Games.unique() #tudo normal"
      ],
      "execution_count": 45,
      "outputs": [
        {
          "output_type": "execute_result",
          "data": {
            "text/plain": [
              "array(['1900 Summer', '1992 Winter', '1920 Summer', '2014 Winter',\n",
              "       '1948 Summer', '1952 Summer', '1994 Winter', '2002 Winter',\n",
              "       '2006 Winter', '2008 Summer', '1952 Winter', '1960 Winter',\n",
              "       '1912 Summer', '1956 Summer', '2016 Summer', '2000 Summer',\n",
              "       '2012 Summer', '1996 Summer', '2004 Summer', '1980 Summer',\n",
              "       '1984 Summer', '1992 Summer', '1936 Summer', '1988 Summer',\n",
              "       '1906 Summer', '1964 Summer', '1960 Summer', '1972 Summer',\n",
              "       '1924 Summer', '1924 Winter', '1904 Summer', '1932 Summer',\n",
              "       '1928 Winter', '1998 Winter', '1988 Winter', '1968 Winter',\n",
              "       '1976 Summer', '2010 Winter', '1908 Summer', '1928 Summer',\n",
              "       '1968 Summer', '1972 Winter', '1980 Winter', '1984 Winter',\n",
              "       '1936 Winter', '1956 Winter', '1976 Winter', '1964 Winter',\n",
              "       '1948 Winter', '1932 Winter', '1896 Summer'], dtype=object)"
            ]
          },
          "metadata": {},
          "execution_count": 45
        }
      ]
    },
    {
      "cell_type": "code",
      "metadata": {
        "colab": {
          "base_uri": "https://localhost:8080/"
        },
        "id": "hvykzb2MLtCS",
        "outputId": "40fd8f49-0945-4f4f-f92b-13692e1375a4"
      },
      "source": [
        "df.Season.unique() #ForaBolsonaro, Ele nunca, Ele não"
      ],
      "execution_count": 46,
      "outputs": [
        {
          "output_type": "execute_result",
          "data": {
            "text/plain": [
              "array(['Summer', 'Winter'], dtype=object)"
            ]
          },
          "metadata": {},
          "execution_count": 46
        }
      ]
    },
    {
      "cell_type": "code",
      "metadata": {
        "colab": {
          "base_uri": "https://localhost:8080/"
        },
        "id": "Ybmx8Q-6PajS",
        "outputId": "ec0526cb-b533-4fa5-c110-e8b9058903b5"
      },
      "source": [
        "df.City.unique() #######"
      ],
      "execution_count": 47,
      "outputs": [
        {
          "output_type": "execute_result",
          "data": {
            "text/plain": [
              "array(['Paris', 'Albertville', 'Antwerpen', 'Sochi', 'London', 'Helsinki',\n",
              "       'Lillehammer', 'Salt Lake City', 'Torino', 'Beijing', 'Oslo',\n",
              "       'Squaw Valley', 'Stockholm', 'Melbourne', 'Rio de Janeiro',\n",
              "       'Sydney', 'Atlanta', 'Athina', 'Moskva', 'Los Angeles',\n",
              "       'Barcelona', 'Berlin', 'Seoul', 'Tokyo', 'Roma', 'Munich',\n",
              "       'Chamonix', 'St. Louis', 'Sankt Moritz', 'Nagano', 'Calgary',\n",
              "       'Grenoble', 'Montreal', 'Vancouver', 'Amsterdam', 'Mexico City',\n",
              "       'Sapporo', 'Lake Placid', 'Sarajevo', 'Garmisch-Partenkirchen',\n",
              "       \"Cortina d'Ampezzo\", 'Innsbruck'], dtype=object)"
            ]
          },
          "metadata": {},
          "execution_count": 47
        }
      ]
    },
    {
      "cell_type": "code",
      "metadata": {
        "colab": {
          "base_uri": "https://localhost:8080/"
        },
        "id": "mEGyB6mOPlEH",
        "outputId": "5313824c-4814-4d1b-a1ef-09e01c806ffc"
      },
      "source": [
        "df.Sport.unique() #'Art Competitions'"
      ],
      "execution_count": 48,
      "outputs": [
        {
          "output_type": "execute_result",
          "data": {
            "text/plain": [
              "array(['Tug-Of-War', 'Cross Country Skiing', 'Swimming', 'Ice Hockey',\n",
              "       'Gymnastics', 'Alpine Skiing', 'Handball', 'Speed Skating',\n",
              "       'Sailing', 'Cycling', 'Rowing', 'Fencing', 'Taekwondo',\n",
              "       'Athletics', 'Canoeing', 'Football', 'Water Polo', 'Wrestling',\n",
              "       'Modern Pentathlon', 'Hockey', 'Figure Skating', 'Golf',\n",
              "       'Softball', 'Volleyball', 'Boxing', 'Basketball',\n",
              "       'Nordic Combined', 'Baseball', 'Diving', 'Shooting',\n",
              "       'Freestyle Skiing', 'Bobsleigh', 'Equestrianism', 'Curling',\n",
              "       'Judo', 'Tennis', 'Badminton', 'Rugby Sevens',\n",
              "       'Rhythmic Gymnastics', 'Weightlifting', 'Beach Volleyball',\n",
              "       'Ski Jumping', 'Rugby', 'Short Track Speed Skating', 'Archery',\n",
              "       'Biathlon', 'Lacrosse', 'Synchronized Swimming', 'Triathlon',\n",
              "       'Polo', 'Luge', 'Table Tennis', 'Snowboarding', 'Cricket',\n",
              "       'Skeleton', 'Racquets', 'Military Ski Patrol', 'Croquet', 'Roque',\n",
              "       'Alpinism', 'Trampolining', 'Basque Pelota', 'Motorboating',\n",
              "       'Jeu De Paume', 'Aeronautics'], dtype=object)"
            ]
          },
          "metadata": {},
          "execution_count": 48
        }
      ]
    },
    {
      "cell_type": "code",
      "metadata": {
        "colab": {
          "base_uri": "https://localhost:8080/"
        },
        "id": "46jNCLpdLl5U",
        "outputId": "9b837521-ffb8-4762-a810-39b1da558730"
      },
      "source": [
        "df.Event.unique() \n",
        "#'Art Competitions Mixed Sculpturing, Medals And Reliefs',\n",
        "#'Art Competitions Mixed Sculpturing, Medals And Plaques',\n",
        "#'Art Competitions Mixed Sculpturing, Statues'\n",
        "#'Art Competitions Mixed Sculpturing, Unknown Event'\n",
        "#'Art Competitions Mixed Architecture', \n",
        "#etc"
      ],
      "execution_count": 49,
      "outputs": [
        {
          "output_type": "execute_result",
          "data": {
            "text/plain": [
              "array([\"Tug-Of-War Men's Tug-Of-War\",\n",
              "       \"Cross Country Skiing Men's 10/15 kilometres Pursuit\",\n",
              "       \"Swimming Men's 200 metres Breaststroke\",\n",
              "       \"Swimming Men's 400 metres Breaststroke\",\n",
              "       \"Ice Hockey Men's Ice Hockey\",\n",
              "       \"Gymnastics Men's Individual All-Around\",\n",
              "       \"Gymnastics Men's Team All-Around\", \"Gymnastics Men's Horse Vault\",\n",
              "       \"Gymnastics Men's Pommelled Horse\", \"Alpine Skiing Men's Super G\",\n",
              "       \"Alpine Skiing Men's Giant Slalom\", \"Alpine Skiing Men's Downhill\",\n",
              "       \"Alpine Skiing Men's Combined\", \"Handball Women's Handball\",\n",
              "       \"Gymnastics Men's Team All-Around, Free System\",\n",
              "       \"Speed Skating Men's 1,500 metres\", 'Sailing Mixed 8 metres',\n",
              "       \"Cycling Men's Road Race, Team\", \"Rowing Men's Coxless Pairs\",\n",
              "       \"Fencing Men's epee, Individual\", \"Taekwondo Women's Flyweight\",\n",
              "       \"Athletics Women's Javelin Throw\",\n",
              "       \"Swimming Men's 100 metres Butterfly\",\n",
              "       \"Canoeing Men's Kayak Fours, 1,000 metres\",\n",
              "       \"Handball Men's Handball\", \"Football Men's Football\",\n",
              "       \"Water Polo Men's Water Polo\",\n",
              "       \"Wrestling Men's Featherweight, Freestyle\",\n",
              "       'Sailing Mixed Two Person Heavyweight Dinghy',\n",
              "       \"Athletics Men's 1,500 metres\", \"Cycling Women's Sprint\",\n",
              "       \"Fencing Men's Sabre, Team\",\n",
              "       \"Swimming Men's 4 x 200 metres Freestyle Relay\",\n",
              "       \"Modern Pentathlon Men's Individual\",\n",
              "       \"Rowing Men's Quadruple Sculls\", \"Rowing Men's Double Sculls\",\n",
              "       \"Rowing Men's Coxed Pairs\", \"Hockey Men's Hockey\",\n",
              "       'Figure Skating Mixed Team', \"Golf Women's Individual\",\n",
              "       \"Softball Women's Softball\", \"Taekwondo Women's Featherweight\",\n",
              "       \"Fencing Men's Sabre, Individual\", \"Rowing Men's Coxed Eights\",\n",
              "       \"Gymnastics Men's Horizontal Bar\",\n",
              "       \"Wrestling Men's Middleweight, Greco-Roman\",\n",
              "       \"Fencing Men's Foil, Team\",\n",
              "       \"Swimming Women's 4 x 100 metres Medley Relay\",\n",
              "       \"Volleyball Women's Volleyball\", \"Boxing Men's Light-Welterweight\",\n",
              "       \"Wrestling Men's Super-Heavyweight, Greco-Roman\",\n",
              "       \"Wrestling Men's Flyweight, Freestyle\",\n",
              "       \"Wrestling Men's Bantamweight, Freestyle\",\n",
              "       \"Basketball Men's Basketball\", \"Boxing Men's Middleweight\",\n",
              "       \"Wrestling Men's Light-Heavyweight, Freestyle\",\n",
              "       \"Athletics Men's Hammer Throw\", \"Nordic Combined Men's Team\",\n",
              "       \"Baseball Men's Baseball\", \"Athletics Men's 10,000 metres\",\n",
              "       \"Gymnastics Women's Team All-Around\",\n",
              "       \"Diving Women's Synchronized Springboard\",\n",
              "       \"Gymnastics Women's Floor Exercise\",\n",
              "       \"Shooting Men's Rapid-Fire Pistol, 25 metres\",\n",
              "       'Sailing Mixed 7 metres', \"Athletics Men's Marathon\",\n",
              "       \"Freestyle Skiing Men's Moguls\", \"Athletics Men's Long Jump\",\n",
              "       \"Athletics Men's Triple Jump\",\n",
              "       \"Swimming Women's 4 x 100 metres Freestyle Relay\",\n",
              "       \"Athletics Women's 5,000 metres\",\n",
              "       \"Wrestling Men's Middleweight, Freestyle\",\n",
              "       \"Football Women's Football\",\n",
              "       \"Athletics Men's 4 x 400 metres Relay\",\n",
              "       \"Gymnastics Men's Floor Exercise\", \"Gymnastics Men's Rings\",\n",
              "       \"Swimming Men's 4 x 100 metres Freestyle Relay\",\n",
              "       \"Fencing Men's Foil, Individual\", \"Athletics Men's Decathlon\",\n",
              "       \"Canoeing Men's Kayak Doubles, 500 metres\",\n",
              "       \"Swimming Men's 4 x 100 metres Medley Relay\",\n",
              "       \"Wrestling Men's Light-Heavyweight, Greco-Roman\",\n",
              "       \"Athletics Men's 100 metres\",\n",
              "       \"Athletics Men's 4 x 100 metres Relay\",\n",
              "       \"Athletics Women's Shot Put\", \"Volleyball Men's Volleyball\",\n",
              "       \"Speed Skating Women's Team Pursuit (6 laps)\",\n",
              "       \"Speed Skating Men's 500 metres\",\n",
              "       \"Swimming Men's 50 metres Freestyle\",\n",
              "       \"Basketball Women's Basketball\",\n",
              "       \"Wrestling Men's Lightweight, Freestyle\",\n",
              "       \"Cycling Men's Mountainbike, Cross-Country\",\n",
              "       \"Taekwondo Men's Featherweight\", \"Gymnastics Women's Horse Vault\",\n",
              "       \"Fencing Men's epee, Team\",\n",
              "       \"Rowing Women's Lightweight Double Sculls\",\n",
              "       \"Alpine Skiing Men's Slalom\", \"Boxing Men's Welterweight\",\n",
              "       \"Athletics Men's 200 metres\",\n",
              "       \"Wrestling Men's Flyweight, Greco-Roman\",\n",
              "       \"Cycling Men's 100 kilometres Team Time Trial\",\n",
              "       \"Boxing Men's Featherweight\", \"Boxing Men's Bantamweight\",\n",
              "       \"Cross Country Skiing Women's 3 x 5 kilometres Relay\",\n",
              "       \"Rowing Women's Coxed Eights\", \"Rowing Women's Quadruple Sculls\",\n",
              "       \"Gymnastics Men's Team All-Around, Swedish System\",\n",
              "       \"Nordic Combined Men's Sprint\", \"Bobsleigh Men's Two\",\n",
              "       \"Bobsleigh Men's Four\", \"Diving Men's Platform\",\n",
              "       \"Boxing Men's Heavyweight\",\n",
              "       \"Equestrianism Men's Jumping, Individual\",\n",
              "       \"Equestrianism Men's Three-Day Event, Individual\",\n",
              "       \"Boxing Men's Lightweight\", \"Modern Pentathlon Men's Team\",\n",
              "       \"Curling Men's Curling\",\n",
              "       \"Cycling Men's Team Pursuit, 4,000 metres\",\n",
              "       \"Judo Men's Half-Lightweight\",\n",
              "       \"Athletics Men's Standing High Jump\",\n",
              "       \"Athletics Men's Standing Long Jump\", \"Tennis Men's Doubles\",\n",
              "       \"Swimming Men's 220 yard Freestyle\",\n",
              "       \"Swimming Men's Plunge For Distance\",\n",
              "       \"Shooting Men's Military Rifle, 200, 400, 500 and 600 metres, Team\",\n",
              "       \"Judo Men's Lightweight\", \"Judo Men's Half-Middleweight\",\n",
              "       \"Boxing Women's Flyweight\", \"Athletics Women's 100 metres Hurdles\",\n",
              "       \"Shooting Men's Free Pistol, 50 metres\", \"Curling Women's Curling\",\n",
              "       'Badminton Mixed Doubles',\n",
              "       \"Shooting Men's Military Rifle, 300 metres and 600 metres, Prone, Team\",\n",
              "       \"Athletics Men's 400 metres Hurdles\",\n",
              "       \"Shooting Men's Running Target, Single Shot\",\n",
              "       \"Rugby Sevens Men's Rugby Sevens\",\n",
              "       \"Canoeing Men's Canadian Doubles, Slalom\",\n",
              "       'Sailing Mixed Three Person Keelboat',\n",
              "       \"Swimming Women's 100 metres Freestyle\",\n",
              "       \"Equestrianism Men's Dressage, Team\",\n",
              "       \"Equestrianism Men's Three-Day Event, Team\",\n",
              "       \"Tennis Women's Singles, Covered Courts\",\n",
              "       \"Swimming Women's 800 metres Freestyle\",\n",
              "       \"Athletics Men's High Jump\",\n",
              "       \"Shooting Men's Small-Bore Rifle, Prone, 50 metres\",\n",
              "       \"Swimming Men's 100 metres Freestyle\",\n",
              "       \"Athletics Women's 4 x 400 metres Relay\",\n",
              "       \"Rowing Women's Coxed Quadruple Sculls\",\n",
              "       \"Rowing Men's Coxless Fours\", \"Tennis Men's Singles\",\n",
              "       \"Judo Women's Half-Middleweight\", 'Sailing Mixed 6 metres',\n",
              "       \"Hockey Women's Hockey\", \"Swimming Men's 200 metres Freestyle\",\n",
              "       \"Ice Hockey Women's Ice Hockey\",\n",
              "       'Figure Skating Mixed Ice Dancing', \"Fencing Women's Foil, Team\",\n",
              "       \"Rowing Women's Single Sculls\",\n",
              "       \"Rowing Men's 17-Man Naval Rowing Boats\",\n",
              "       \"Rhythmic Gymnastics Women's Group\",\n",
              "       \"Weightlifting Women's Flyweight\",\n",
              "       \"Wrestling Men's Bantamweight, Greco-Roman\",\n",
              "       \"Wrestling Men's Middleweight B, Greco-Roman\",\n",
              "       'Equestrianism Mixed Jumping, Team',\n",
              "       \"Beach Volleyball Men's Beach Volleyball\",\n",
              "       \"Swimming Women's 100 metres Butterfly\",\n",
              "       \"Cross Country Skiing Men's 10 kilometres\",\n",
              "       \"Ski Jumping Men's Large Hill, Team\", \"Athletics Men's 800 metres\",\n",
              "       \"Water Polo Women's Water Polo\", \"Weightlifting Men's Heavyweight\",\n",
              "       \"Canoeing Men's Kayak Singles, Slalom\",\n",
              "       'Sailing Mixed One Person Dinghy',\n",
              "       \"Sailing Men's One Person Dinghy\",\n",
              "       \"Sailing Men's One Person Heavyweight Dinghy\",\n",
              "       \"Sailing Women's Skiff\", \"Athletics Men's 5,000 metres\",\n",
              "       'Sailing Mixed 5.5 metres', 'Tennis Mixed Doubles, Covered Courts',\n",
              "       \"Cycling Men's Madison\", \"Rugby Men's Rugby\",\n",
              "       \"Ski Jumping Men's Normal Hill, Individual\",\n",
              "       \"Athletics Women's Long Jump\",\n",
              "       \"Short Track Speed Skating Men's 5,000 metres Relay\",\n",
              "       \"Archery Men's Individual\",\n",
              "       \"Canoeing Men's Kayak Doubles, 10,000 metres\",\n",
              "       \"Wrestling Men's Super-Heavyweight, Freestyle\",\n",
              "       \"Biathlon Women's 4 x 7.5 kilometres Relay\",\n",
              "       \"Biathlon Women's 10 kilometres Pursuit\",\n",
              "       \"Biathlon Women's 15 kilometres\",\n",
              "       \"Biathlon Women's 4 x 6 kilometres Relay\",\n",
              "       \"Wrestling Men's Heavyweight, Freestyle\",\n",
              "       \"Athletics Women's 4 x 100 metres Relay\",\n",
              "       \"Weightlifting Men's Middle-Heavyweight\",\n",
              "       \"Weightlifting Men's Heavyweight II\",\n",
              "       \"Fencing Women's Sabre, Team\",\n",
              "       \"Athletics Women's 400 metres Hurdles\",\n",
              "       \"Shooting Women's Small-Bore Rifle, Three Positions, 50 metres\",\n",
              "       'Sailing Mixed Two Person Keelboat', \"Shooting Men's Skeet\",\n",
              "       \"Shooting Men's Double Trap\", \"Shooting Men's Trap\",\n",
              "       'Equestrianism Mixed Jumping, Individual',\n",
              "       \"Athletics Women's 100 metres\", \"Athletics Men's 400 metres\",\n",
              "       \"Swimming Men's 200 metres Butterfly\",\n",
              "       \"Shooting Men's Air Rifle, 10 metres\",\n",
              "       \"Sailing Women's Windsurfer\",\n",
              "       \"Swimming Men's 200 metres Individual Medley\",\n",
              "       \"Cycling Men's Individual Time Trial\",\n",
              "       \"Cross Country Skiing Men's 4 x 10 kilometres Relay\",\n",
              "       \"Weightlifting Men's Super-Heavyweight\", 'Sailing Mixed 1-2 Ton',\n",
              "       \"Badminton Women's Singles\", \"Speed Skating Women's 1,000 metres\",\n",
              "       \"Cross Country Skiing Women's 4 x 5 kilometres Relay\",\n",
              "       \"Figure Skating Women's Singles\", \"Cycling Men's 50 kilometres\",\n",
              "       \"Sailing Women's Two Person Dinghy\",\n",
              "       \"Athletics Men's Discus Throw\", \"Rowing Women's Double Sculls\",\n",
              "       \"Wrestling Men's Heavyweight, Greco-Roman\",\n",
              "       \"Diving Women's Platform\", \"Lacrosse Men's Lacrosse\",\n",
              "       \"Synchronized Swimming Women's Team\",\n",
              "       \"Wrestling Men's Light-Flyweight, Greco-Roman\",\n",
              "       \"Taekwondo Men's Heavyweight\", 'Sailing Mixed 12 metres',\n",
              "       'Equestrianism Mixed Three-Day Event, Individual',\n",
              "       \"Shooting Men's Small-Bore Rifle, Three Positions, 50 metres\",\n",
              "       \"Athletics Men's Shot Put\", \"Biathlon Men's 10 kilometres Sprint\",\n",
              "       \"Biathlon Men's 4 x 7.5 kilometres Relay\",\n",
              "       \"Gymnastics Men's Rope Climbing\",\n",
              "       \"Archery Men's Target Archery, 28 metres, Team\",\n",
              "       \"Archery Men's Target Archery, 33 metres, Team\",\n",
              "       \"Archery Men's Target Archery, 50 metres, Team\",\n",
              "       \"Short Track Speed Skating Women's 3,000 metres Relay\",\n",
              "       \"Rugby Sevens Women's Rugby Sevens\",\n",
              "       \"Triathlon Women's Olympic Distance\",\n",
              "       \"Figure Skating Men's Singles\", \"Polo Men's Polo\",\n",
              "       \"Modern Pentathlon Women's Individual\",\n",
              "       \"Rowing Men's Coxed Fours, Inriggers\",\n",
              "       'Equestrianism Mixed Three-Day Event, Team',\n",
              "       \"Athletics Men's Cross-Country, Team\", 'Sailing Mixed 40 metres',\n",
              "       \"Boxing Men's Flyweight\",\n",
              "       \"Cross Country Skiing Men's 30 kilometres\",\n",
              "       \"Cross Country Skiing Men's 10/10 kilometres Pursuit\",\n",
              "       \"Swimming Women's 50 metres Freestyle\",\n",
              "       \"Canoeing Men's Canadian Doubles, 1,000 metres\",\n",
              "       \"Athletics Men's Pole Vault\", \"Rowing Women's Coxless Pairs\",\n",
              "       \"Athletics Men's 10 kilometres Walk\",\n",
              "       \"Equestrianism Men's Jumping, Team\", \"Judo Women's Middleweight\",\n",
              "       \"Boxing Men's Super-Heavyweight\", \"Biathlon Men's 20 kilometres\",\n",
              "       \"Swimming Men's 100 metres Breaststroke\",\n",
              "       \"Cross Country Skiing Men's Team Sprint\", 'Shooting Mixed Skeet',\n",
              "       \"Canoeing Women's Kayak Singles, 200 metres\",\n",
              "       \"Boxing Men's Light-Heavyweight\",\n",
              "       \"Gymnastics Women's Individual All-Around\", \"Luge Women's Singles\",\n",
              "       \"Rowing Men's Lightweight Coxless Fours\",\n",
              "       \"Sailing Women's One Person Dinghy\",\n",
              "       \"Athletics Men's 3,000 metres Steeplechase\",\n",
              "       \"Athletics Men's 3,000 metres, Team\",\n",
              "       \"Ski Jumping Men's Large Hill, Individual\",\n",
              "       \"Athletics Women's Pole Vault\", \"Rowing Men's Coxed Fours\",\n",
              "       \"Shooting Men's Small-Bore Rifle, 50 and 100 yards, Team\",\n",
              "       \"Shooting Men's Small-Bore Rifle, Disappearing Target, 25 yards\",\n",
              "       \"Athletics Women's 400 metres\",\n",
              "       \"Shooting Men's Military Pistol, Team\",\n",
              "       \"Shooting Men's Free Rifle, Three Positions, 300 metres, Team\",\n",
              "       \"Wrestling Men's Featherweight, Greco-Roman\",\n",
              "       \"Wrestling Women's Lightweight, Freestyle\",\n",
              "       \"Swimming Women's 200 metres Freestyle\",\n",
              "       \"Canoeing Men's Canadian Singles, 1,000 metres\",\n",
              "       \"Rowing Women's Coxed Fours\", \"Table Tennis Men's Doubles\",\n",
              "       \"Judo Women's Half-Lightweight\",\n",
              "       \"Short Track Speed Skating Men's 500 metres\",\n",
              "       \"Short Track Speed Skating Men's 1,000 metres\",\n",
              "       \"Short Track Speed Skating Men's 1,500 metres\",\n",
              "       \"Canoeing Men's Canadian Doubles, 500 metres\",\n",
              "       \"Judo Women's Heavyweight\", \"Nordic Combined Men's Individual\",\n",
              "       \"Canoeing Men's Kayak Singles, 1,000 metres\",\n",
              "       \"Wrestling Men's Lightweight, Greco-Roman\",\n",
              "       \"Speed Skating Men's 5,000 metres\",\n",
              "       \"Speed Skating Men's 10,000 metres\",\n",
              "       'Art Competitions Mixed Painting', \"Athletics Women's Marathon\",\n",
              "       \"Swimming Women's 4 x 200 metres Freestyle Relay\",\n",
              "       \"Shooting Men's Free Rifle, Three Positions, 300 metres\",\n",
              "       'Shooting Mixed Free Rifle, Three Positions, 300 metres',\n",
              "       \"Cycling Men's Individual Pursuit, 4,000 metres\",\n",
              "       \"Swimming Women's 10 kilometres Open Water\",\n",
              "       \"Snowboarding Women's Slopestyle\",\n",
              "       \"Snowboarding Men's Parallel Giant Slalom\",\n",
              "       \"Diving Men's Springboard\", 'Sailing Mixed Multihull',\n",
              "       \"Athletics Men's 110 metres Hurdles\",\n",
              "       \"Cycling Men's Team Pursuit, 1,980 yards\", \"Cricket Men's Cricket\",\n",
              "       \"Canoeing Women's Kayak Singles, 500 metres\",\n",
              "       \"Canoeing Women's Kayak Doubles, 500 metres\",\n",
              "       \"Canoeing Women's Kayak Fours, 500 metres\",\n",
              "       \"Shooting Men's Free Pistol, 50 metres, Team\",\n",
              "       \"Wrestling Men's Welterweight, Greco-Roman\",\n",
              "       \"Shooting Men's Free Rifle, 400, 600 and 800 metres, Team\",\n",
              "       \"Athletics Men's Cross-Country, Individual\",\n",
              "       \"Canoeing Men's Kayak Doubles, 1,000 metres\",\n",
              "       \"Cross Country Skiing Women's Team Sprint\",\n",
              "       \"Wrestling Men's Middleweight A, Greco-Roman\",\n",
              "       \"Wrestling Men's Welterweight, Freestyle\",\n",
              "       \"Cross Country Skiing Men's 50 kilometres\",\n",
              "       \"Weightlifting Men's Bantamweight\",\n",
              "       \"Weightlifting Women's Lightweight\",\n",
              "       \"Swimming Men's 1,200 metres Freestyle\", \"Cycling Men's 1/4 mile\",\n",
              "       \"Cycling Men's 5 mile\", \"Cycling Men's 25 mile\",\n",
              "       \"Swimming Women's 100 metres Backstroke\",\n",
              "       \"Athletics Men's 20 kilometres Walk\",\n",
              "       \"Alpine Skiing Women's Giant Slalom\",\n",
              "       \"Gymnastics Men's Parallel Bars\", \"Athletics Women's Discus Throw\",\n",
              "       \"Fencing Men's epee, Masters, Individual\",\n",
              "       \"Cycling Men's 1,000 metres Time Trial\",\n",
              "       \"Weightlifting Men's Featherweight\",\n",
              "       \"Speed Skating Men's Team Pursuit (8 laps)\",\n",
              "       \"Cross Country Skiing Men's 15 kilometres\",\n",
              "       \"Cross Country Skiing Men's 30 km Skiathlon\",\n",
              "       \"Swimming Women's 100 metres Breaststroke\",\n",
              "       \"Judo Women's Half-Heavyweight\",\n",
              "       \"Cross Country Skiing Men's Sprint\",\n",
              "       \"Snowboarding Women's Boardercross\",\n",
              "       \"Biathlon Men's 12.5 kilometres Pursuit\",\n",
              "       \"Skeleton Men's Skeleton\",\n",
              "       \"Athletics Men's Javelin Throw, Freestyle\",\n",
              "       'Luge Mixed Team Relay', \"Swimming Men's 1,500 metres Freestyle\",\n",
              "       \"Biathlon Women's 7.5 kilometres Sprint\",\n",
              "       \"Archery Women's Double National Round\",\n",
              "       \"Weightlifting Men's Middleweight\", \"Table Tennis Men's Singles\",\n",
              "       \"Athletics Men's 50 kilometres Walk\", \"Boxing Women's Lightweight\",\n",
              "       'Equestrianism Mixed Hacks And Hunter Combined',\n",
              "       \"Cycling Women's Team Pursuit\", \"Athletics Women's 200 metres\",\n",
              "       \"Athletics Women's 1,500 metres\", \"Diving Women's Springboard\",\n",
              "       'Sailing Mixed 10 metres', \"Boxing Men's Light-Flyweight\",\n",
              "       \"Badminton Men's Doubles\", \"Shooting Men's Trap, Team\",\n",
              "       \"Athletics Women's High Jump\", \"Luge Mixed (Men)'s Doubles\",\n",
              "       \"Cycling Women's Road Race, Individual\",\n",
              "       \"Swimming Men's 400 metres Freestyle\", \"Diving Women's Plain High\",\n",
              "       \"Cycling Women's Individual Time Trial\",\n",
              "       \"Cycling Women's Individual Pursuit, 3,000 metres\",\n",
              "       'Sailing Mixed Windsurfer', \"Rowing Men's Coxed Fours, Outriggers\",\n",
              "       'Sailing Mixed Skiff', \"Cycling Men's Tandem Sprint, 2,000 metres\",\n",
              "       \"Bobsleigh Men's Four/Five\", \"Archery Women's Team\",\n",
              "       \"Weightlifting Men's Lightweight\",\n",
              "       \"Weightlifting Men's Light-Heavyweight\",\n",
              "       \"Gymnastics Women's Balance Beam\",\n",
              "       \"Shooting Men's Running Target, Single Shot, Team\",\n",
              "       \"Judo Men's Extra-Lightweight\", \"Judo Men's Middleweight\",\n",
              "       \"Rowing Men's Single Sculls\", \"Sailing Men's Windsurfer\",\n",
              "       \"Speed Skating Women's 500 metres\",\n",
              "       \"Shooting Men's Running Target, 10 metres\",\n",
              "       \"Athletics Women's 3,000 metres Steeplechase\",\n",
              "       \"Gymnastics Women's Team Portable Apparatus\",\n",
              "       \"Gymnastics Women's Uneven Bars\", \"Racquets Men's Singles\",\n",
              "       \"Racquets Men's Doubles\",\n",
              "       \"Shooting Women's Sporting Pistol, 25 metres\",\n",
              "       \"Swimming Women's 200 metres Backstroke\",\n",
              "       'Shooting Mixed Small-Bore Rifle, Prone, 50 metres',\n",
              "       \"Military Ski Patrol Men's Military Ski Patrol\",\n",
              "       \"Cycling Men's 5,000 metres\",\n",
              "       \"Cross Country Skiing Women's 10 kilometres\",\n",
              "       \"Cycling Men's Road Race, Individual\", 'Sailing Mixed 0.5-1 Ton',\n",
              "       'Art Competitions Mixed Painting, Applied Arts',\n",
              "       'Croquet Mixed Singles, One Ball', 'Croquet Mixed Doubles',\n",
              "       \"Cross Country Skiing Women's 5 kilometres\",\n",
              "       \"Speed Skating Women's 1,500 metres\",\n",
              "       \"Speed Skating Women's 3,000 metres\", \"Archery Women's Individual\",\n",
              "       \"Shooting Men's Running Target, 50 metres\",\n",
              "       \"Canoeing Men's Canadian Singles, Slalom\", \"Cycling Men's Keirin\",\n",
              "       \"Badminton Men's Singles\",\n",
              "       \"Shooting Men's Free Pistol, 50 yards, Team\",\n",
              "       \"Judo Men's Half-Heavyweight\", \"Athletics Women's 10,000 metres\",\n",
              "       \"Fencing Men's epee, Masters and Amateurs, Individual\",\n",
              "       \"Sailing Women's Three Person Keelboat\", \"Tennis Women's Singles\",\n",
              "       'Tennis Mixed Doubles', \"Fencing Women's epee, Team\",\n",
              "       \"Rowing Men's Lightweight Double Sculls\",\n",
              "       \"Swimming Women's 200 metres Breaststroke\",\n",
              "       \"Swimming Women's 400 metres Freestyle\",\n",
              "       \"Synchronized Swimming Women's Solo\",\n",
              "       \"Shooting Men's Air Pistol, 10 metres\",\n",
              "       \"Athletics Men's Javelin Throw\", \"Shooting Women's Skeet\",\n",
              "       \"Tennis Women's Doubles\", 'Figure Skating Mixed Pairs',\n",
              "       \"Canoeing Men's Kayak Singles, 500 metres\",\n",
              "       \"Canoeing Women's Kayak Singles, Slalom\",\n",
              "       \"Swimming Men's 4 x 250 metres Freestyle Relay\",\n",
              "       \"Freestyle Skiing Women's Moguls\", \"Cycling Men's BMX\",\n",
              "       'Shooting Mixed Trap',\n",
              "       'Art Competitions Mixed Architecture, Architectural Designs',\n",
              "       \"Freestyle Skiing Women's Slopestyle\", \"Bobsleigh Women's Two\",\n",
              "       \"Boxing Men's Light-Middleweight\",\n",
              "       'Equestrianism Mixed Dressage, Individual',\n",
              "       'Equestrianism Mixed Dressage, Team',\n",
              "       \"Cycling Women's 500 metres Time Trial\", \"Shooting Women's Trap\",\n",
              "       \"Rowing Men's 6-Man Naval Rowing Boats\",\n",
              "       \"Swimming Men's 200 metres Backstroke\",\n",
              "       \"Athletics Women's Pentathlon\",\n",
              "       \"Beach Volleyball Women's Beach Volleyball\",\n",
              "       \"Swimming Women's 400 metres Individual Medley\",\n",
              "       \"Cycling Men's 20 kilometres\", \"Fencing Women's epee, Individual\",\n",
              "       \"Shooting Men's Small-Bore Rifle, Prone, 50 and 100 yards\",\n",
              "       \"Rowing Women's Coxless Fours\",\n",
              "       \"Diving Men's Synchronized Springboard\",\n",
              "       \"Swimming Men's 100 metres Backstroke\",\n",
              "       \"Sailing Men's Two Person Dinghy\",\n",
              "       \"Tennis Men's Doubles, Covered Courts\",\n",
              "       'Art Competitions Mixed Painting, Paintings', \"Archery Men's Team\",\n",
              "       \"Shooting Women's Air Rifle, 10 metres\",\n",
              "       \"Rhythmic Gymnastics Women's Individual\",\n",
              "       'Art Competitions Mixed Music', \"Cycling Men's 100 kilometres\",\n",
              "       \"Synchronized Swimming Women's Duet\",\n",
              "       \"Taekwondo Women's Heavyweight\",\n",
              "       'Shooting Mixed Small-Bore Rifle, Three Positions, 50 metres',\n",
              "       \"Cycling Men's 25 kilometres\",\n",
              "       \"Shooting Women's Air Pistol, 10 metres\",\n",
              "       'Art Competitions Mixed Painting, Graphic Arts',\n",
              "       \"Swimming Men's 400 metres Individual Medley\",\n",
              "       \"Weightlifting Women's Middleweight\",\n",
              "       \"Fencing Women's Foil, Individual\",\n",
              "       \"Nordic Combined Men's Normal Hill / 10 km, Individual\",\n",
              "       'Art Competitions Mixed Literature',\n",
              "       \"Cross Country Skiing Women's 5/5 kilometres Pursuit\",\n",
              "       \"Cycling Men's Team Sprint\", \"Cycling Men's Sprint\",\n",
              "       \"Athletics Men's Standing Triple Jump\",\n",
              "       \"Freestyle Skiing Men's Aerials\",\n",
              "       \"Swimming Women's 200 metres Individual Medley\",\n",
              "       \"Canoeing Men's Kayak Singles, 200 metres\",\n",
              "       \"Speed Skating Women's 5,000 metres\",\n",
              "       \"Athletics Women's 80 metres Hurdles\",\n",
              "       \"Biathlon Women's 3 x 7.5 kilometres Relay\",\n",
              "       'Art Competitions Mixed Painting, Unknown Event',\n",
              "       \"Athletics Women's Heptathlon\", \"Taekwondo Men's Welterweight\",\n",
              "       \"Alpine Skiing Women's Combined\",\n",
              "       'Shooting Mixed Running Target, 50 metres',\n",
              "       \"Cycling Women's Points Race\",\n",
              "       \"Cross Country Skiing Women's 30 kilometres\",\n",
              "       \"Cross Country Skiing Women's 5/10 kilometres Pursuit\",\n",
              "       \"Cross Country Skiing Women's 15 kilometres\",\n",
              "       \"Swimming Women's 200 metres Butterfly\", \"Judo Men's Heavyweight\",\n",
              "       \"Canoeing Men's Canadian Singles, 200 metres\",\n",
              "       \"Shooting Men's Running Target, Double Shot\",\n",
              "       \"Shooting Men's Running Target, Double Shot, Team\",\n",
              "       \"Shooting Men's Military Rifle, 200/500/600/800/900/1,000 Yards, Team\",\n",
              "       \"Diving Women's Synchronized Platform\", 'Sailing Mixed 30 metres',\n",
              "       \"Athletics Women's 800 metres\",\n",
              "       \"Fencing Women's Sabre, Individual\",\n",
              "       'Sailing Mixed Two Person Dinghy',\n",
              "       \"Athletics Men's 4,000 metres Steeplechase\",\n",
              "       \"Athletics Men's 5,000 metres, Team\",\n",
              "       \"Triathlon Men's Olympic Distance\",\n",
              "       \"Alpine Skiing Women's Super G\",\n",
              "       'Biathlon Mixed 2 x 6 kilometres and 2 x 7.5 kilometres Relay',\n",
              "       \"Judo Women's Extra-Lightweight\",\n",
              "       \"Rowing Men's Coxed Pairs (1 mile)\",\n",
              "       \"Swimming Men's One Mile Freestyle\",\n",
              "       \"Freestyle Skiing Women's Ski Cross\",\n",
              "       \"Swimming Men's 200 metres Team Swimming\", 'Sailing Mixed 12 foot',\n",
              "       'Art Competitions Mixed Music, Vocals',\n",
              "       \"Athletics Men's Pentathlon\", \"Alpine Skiing Women's Downhill\",\n",
              "       \"Nordic Combined Men's Large Hill / 10 km, Individual\",\n",
              "       'Sailing Mixed 10-20 Ton', \"Cycling Men's 1/3 mile\",\n",
              "       \"Cycling Men's 1/2 mile\", \"Cycling Men's 1 mile\",\n",
              "       'Art Competitions Mixed Literature, Lyric Works',\n",
              "       \"Skeleton Women's Skeleton\", \"Sailing Men's Two Person Keelboat\",\n",
              "       \"Cross Country Skiing Women's Sprint\",\n",
              "       \"Cross Country Skiing Women's 15 km Skiathlon\",\n",
              "       \"Biathlon Men's 15 kilometres Mass Start\",\n",
              "       \"Canoeing Men's Folding Kayak Doubles, 10 kilometres\",\n",
              "       'Art Competitions Mixed Painting, Drawings And Water Colors',\n",
              "       \"Snowboarding Women's Parallel Giant Slalom\",\n",
              "       'Sailing Mixed 2-3 Ton', \"Weightlifting Men's Heavyweight I\",\n",
              "       \"Judo Women's Lightweight\",\n",
              "       \"Cycling Women's Mountainbike, Cross-Country\",\n",
              "       \"Swimming Women's 300 metres Freestyle\",\n",
              "       \"Snowboarding Women's Halfpipe\",\n",
              "       'Art Competitions Mixed Sculpturing, Statues',\n",
              "       \"Shooting Men's Military Rifle, Prone, 600 metres, Team\",\n",
              "       \"Shooting Men's Free Rifle, 1,000 Yards\",\n",
              "       \"Gymnastics Men's Parallel Bars, Teams\",\n",
              "       \"Gymnastics Men's Horizontal Bar, Teams\",\n",
              "       \"Athletics Men's 1,600 metres Medley Relay\",\n",
              "       'Art Competitions Mixed Sculpturing, Unknown Event',\n",
              "       \"Shooting Men's Small-Bore Rifle, Disappearing Target, 25 metres, Team\",\n",
              "       \"Snowboarding Men's Boardercross\", \"Table Tennis Men's Team\",\n",
              "       \"Equestrianism Men's Dressage, Individual\",\n",
              "       \"Athletics Men's 1,500 metres Walk\",\n",
              "       \"Athletics Men's 3 mile, Team\",\n",
              "       \"Shooting Men's Small-Bore Rifle, Standing, 50 metres\",\n",
              "       \"Shooting Men's Small Bore-Rifle, Standing, 50 metres, Team\",\n",
              "       \"Luge Men's Singles\", \"Judo Men's Open Class\",\n",
              "       \"Speed Skating Men's 1,000 metres\",\n",
              "       \"Canoeing Men's Canadian Doubles, 10,000 metres\",\n",
              "       \"Equestrianism Men's Vaulting, Individual\",\n",
              "       \"Equestrianism Men's Vaulting, Team\",\n",
              "       \"Diving Men's Synchronized Platform\",\n",
              "       \"Short Track Speed Skating Women's 500 metres\",\n",
              "       \"Freestyle Skiing Men's Ski Cross\",\n",
              "       \"Freestyle Skiing Women's Halfpipe\",\n",
              "       \"Freestyle Skiing Men's Halfpipe\",\n",
              "       \"Swimming Men's 100 Yard Backstroke\",\n",
              "       \"Swimming Men's 440 Yard Breaststroke\",\n",
              "       \"Shooting Men's Military Pistol, 30 metres\",\n",
              "       \"Gymnastics Men's Individual All-Around, 5 Events\",\n",
              "       \"Freestyle Skiing Women's Aerials\", \"Diving Men's Plain High\",\n",
              "       \"Cross Country Skiing Men's 18 kilometres\",\n",
              "       'Art Competitions Mixed Music, Compositions For Orchestra',\n",
              "       \"Archery Men's Double York Round\", \"Roque Men's Singles\",\n",
              "       \"Shooting Men's Military Rifle, Standing, 300 metres, Team\",\n",
              "       'Alpinism Mixed Alpinism',\n",
              "       \"Archery Men's Target Archery, 33 metres, Individual\",\n",
              "       \"Archery Men's Target Archery, 50 metres, Individual\",\n",
              "       \"Rowing Men's Coxed Pairs (1 kilometres)\",\n",
              "       \"Cycling Men's Points Race\", \"Archery Men's Double American Round\",\n",
              "       \"Archery Men's Team Round\", \"Alpine Skiing Women's Slalom\",\n",
              "       \"Canoeing Men's Canadian Singles, 500 metres\",\n",
              "       \"Canoeing Men's Canadian Singles, 10,000 metres\",\n",
              "       \"Wrestling Women's Heavyweight, Freestyle\", \"Sailing Men's Skiff\",\n",
              "       \"Trampolining Men's Individual\",\n",
              "       \"Shooting Men's Small-Bore Rifle, Any Position, 50 metres\",\n",
              "       \"Archery Men's Continental Style\", \"Golf Men's Team\",\n",
              "       'Sailing Mixed 0-0.5 Ton', 'Sailing Mixed 20+ Ton',\n",
              "       \"Weightlifting Men's Unlimited, One Hand\",\n",
              "       \"Weightlifting Women's Heavyweight\",\n",
              "       \"Tennis Men's Singles, Covered Courts\",\n",
              "       \"Shooting Men's Dueling Pistol, 30 metres, Team\",\n",
              "       \"Shooting Men's Small-Bore Rifle, Prone, 50 metres, Team\",\n",
              "       \"Shooting Men's Dueling Pistol Au Commandement, 25 metres\",\n",
              "       \"Shooting Men's Free Rifle, Any Position, 300 metres\",\n",
              "       \"Shooting Men's Small-Bore Rifle, Disappearing Target, 25 metres\",\n",
              "       'Sailing Mixed 6.5 metres',\n",
              "       \"Fencing Men's Sabre, Individual, Three Hits\",\n",
              "       \"Athletics Men's 200 metres Hurdles\", \"Cycling Men's Omnium\",\n",
              "       \"Athletics Men's 56-pound Weight Throw\",\n",
              "       \"Athletics Women's 3,000 metres\",\n",
              "       'Art Competitions Mixed Sculpturing',\n",
              "       \"Athletics Men's 2,500 metres Steeplechase\", \"Cycling Women's BMX\",\n",
              "       \"Table Tennis Women's Singles\", \"Table Tennis Women's Doubles\",\n",
              "       \"Athletics Women's 10 kilometres Walk\",\n",
              "       \"Weightlifting Women's Featherweight\",\n",
              "       \"Short Track Speed Skating Women's 1,500 metres\",\n",
              "       \"Freestyle Skiing Men's Slopestyle\", \"Taekwondo Men's Flyweight\",\n",
              "       \"Wrestling Women's Flyweight, Freestyle\",\n",
              "       \"Weightlifting Men's Flyweight\",\n",
              "       \"Archery Men's Pole Archery, Large Birds, Individual\",\n",
              "       \"Archery Men's Pole Archery, Small Birds, Team\",\n",
              "       \"Archery Men's Pole Archery, Large Birds, Team\",\n",
              "       \"Trampolining Women's Individual\",\n",
              "       \"Weightlifting Women's Light-Heavyweight\",\n",
              "       \"Shooting Men's Military Rifle, Any Position, 600 metres\",\n",
              "       \"Fencing Men's Sabre, Masters, Individual\",\n",
              "       \"Snowboarding Men's Giant Slalom\",\n",
              "       \"Archery Women's Double Columbia Round\",\n",
              "       \"Athletics Men's 4 mile, Team\",\n",
              "       \"Canoeing Men's Kayak Doubles, 200 metres\",\n",
              "       \"Athletics Women's Hammer Throw\",\n",
              "       \"Cycling Men's 333 metres Time Trial\",\n",
              "       \"Figure Skating Men's Special Figures\", 'Sailing Mixed Open',\n",
              "       \"Wrestling Men's Light-Flyweight, Freestyle\",\n",
              "       \"Athletics Men's 5 mile\",\n",
              "       \"Athletics Men's 2,590 metres Steeplechase\",\n",
              "       \"Table Tennis Women's Team\", \"Swimming Men's 50 yard Freestyle\",\n",
              "       \"Swimming Men's 100 yard Freestyle\",\n",
              "       \"Swimming Men's 440 yard Freestyle\",\n",
              "       \"Swimming Men's 4 x 50 Yard Freestyle Relay\",\n",
              "       \"Short Track Speed Skating Women's 1,000 metres\",\n",
              "       \"Swimming Men's 10 kilometres Open Water\",\n",
              "       \"Shooting Men's Military Rifle, Three Positions, 300 metres\",\n",
              "       \"Basque Pelota Men's Two-Man Teams With Cesta\",\n",
              "       \"Shooting Men's Military Revolver, 1873-1874 Gras Model, 20 metres\",\n",
              "       \"Shooting Men's Military Rifle, Kneeling Or Standing, 300 metres\",\n",
              "       'Art Competitions Mixed Literature, Dramatic Works',\n",
              "       'Art Competitions Mixed Unknown Event',\n",
              "       'Equestrianism Mixed Four-In-Hand Competition',\n",
              "       'Equestrianism Mixed Long Jump',\n",
              "       'Croquet Mixed Singles, Two Balls',\n",
              "       \"Swimming Men's Underwater Swimming\",\n",
              "       \"Athletics Women's Triple Jump\", \"Cycling Women's Omnium\",\n",
              "       \"Weightlifting Women's Super-Heavyweight\",\n",
              "       \"Biathlon Women's 12.5 kilometres Mass Start\",\n",
              "       'Shooting Mixed Free Pistol, 50 metres',\n",
              "       \"Shooting Men's Military Pistol, 25 metres\",\n",
              "       \"Athletics Men's Stone Throw\",\n",
              "       \"Wrestling Women's Light-Heavyweight, Freestyle\",\n",
              "       \"Cycling Men's 2 mile\",\n",
              "       \"Swimming Men's 100 metres Freestyle For Sailors\",\n",
              "       \"Archery Men's Sur La Perche a La Herse\",\n",
              "       \"Badminton Women's Doubles\", 'Sailing Mixed 3-10 Ton',\n",
              "       \"Snowboarding Women's Parallel Slalom\",\n",
              "       'Art Competitions Mixed Sculpturing, Medals',\n",
              "       'Shooting Mixed Rapid-Fire Pistol, 25 metres',\n",
              "       \"Gymnastics Men's Individual All-Around, Apparatus Work\",\n",
              "       \"Canoeing Men's Folding Kayak Singles, 10 kilometres\",\n",
              "       \"Golf Men's Individual\",\n",
              "       'Art Competitions Mixed Literature, Epic Works',\n",
              "       \"Athletics Men's 3,200 metres Steeplechase\",\n",
              "       \"Weightlifting Men's Unlimited, Two Hands\",\n",
              "       \"Gymnastics Men's Individual All-Around, Field Sports\",\n",
              "       \"Taekwondo Women's Welterweight\", \"Gymnastics Men's Club Swinging\",\n",
              "       \"Shooting Men's Military Rifle, Prone, 600 metres\",\n",
              "       \"Gymnastics Men's Individual All-Around, 4 Events\",\n",
              "       \"Gymnastics Men's Side Horse\",\n",
              "       'Motorboating Mixed B-Class (Under 60 Feet)',\n",
              "       'Motorboating Mixed C-Class',\n",
              "       \"Shooting Men's Military Rifle, Prone, 300 metres, Team\",\n",
              "       \"Shooting Men's Free Rifle, Prone, 600 metres\",\n",
              "       \"Archery Men's Au Cordon Dore, 50 metres\",\n",
              "       \"Cycling Men's 10,000 metres\",\n",
              "       \"Athletics Men's Discus Throw, Greek Style\",\n",
              "       \"Shooting Men's Small-Bore Rifle, Moving Target, 25 yards\",\n",
              "       'Art Competitions Mixed Sculpturing, Reliefs',\n",
              "       \"Boxing Women's Middleweight\", \"Snowboarding Men's Halfpipe\",\n",
              "       \"Shooting Men's Free Pistol, 30 metres\",\n",
              "       \"Shooting Men's Muzzle-Loading Pistol, 25 metres\",\n",
              "       \"Canoeing Men's Kayak Singles, 10,000 metres\",\n",
              "       \"Athletics Men's 3,000 metres Walk\",\n",
              "       \"Swimming Men's 880 yard Freestyle\",\n",
              "       \"Shooting Women's Double Trap\", 'Equestrianism Mixed High Jump',\n",
              "       'Art Competitions Mixed Music, Compositions For Solo Or Chorus',\n",
              "       \"Archery Men's Sur La Perche a La Pyramide\",\n",
              "       \"Cycling Women's Team Sprint\",\n",
              "       \"Athletics Women's 20 kilometres Walk\",\n",
              "       \"Shooting Men's Free Pistol, 50 yards\",\n",
              "       \"Jeu De Paume Men's Singles\",\n",
              "       \"Ski Jumping Women's Normal Hill, Individual\",\n",
              "       \"Fencing Men's Single Sticks, Individual\",\n",
              "       'Art Competitions Mixed Sculpturing, Medals And Reliefs',\n",
              "       'Art Competitions Mixed Sculpturing, Medals And Plaques',\n",
              "       \"Gymnastics Men's Tumbling\",\n",
              "       \"Athletics Men's All-Around Championship\",\n",
              "       \"Cycling Women's Keirin\", \"Athletics Men's 60 metres\",\n",
              "       'Art Competitions Mixed Architecture',\n",
              "       \"Canoeing Men's Kayak Relay 4 x 500 metres\",\n",
              "       \"Archery Men's Au Chapelet, 50 metres\",\n",
              "       'Art Competitions Mixed Architecture, Designs For Town Planning',\n",
              "       \"Archery Men's Pole Archery, Small Birds, Individual\",\n",
              "       \"Archery Men's Championnat Du Monde\", \"Archery Women's Team Round\",\n",
              "       \"Wrestling Women's Middleweight, Freestyle\",\n",
              "       \"Cross Country Skiing Women's 20 kilometres\",\n",
              "       \"Swimming Men's 1,000 metres Freestyle\",\n",
              "       \"Swimming Men's 4,000 metres Freestyle\",\n",
              "       \"Wrestling Men's All-Around, Greco-Roman\",\n",
              "       \"Shooting Men's Military Rifle, Prone, 300 metres\",\n",
              "       \"Shooting Men's Military Rifle, 200 metres\",\n",
              "       \"Snowboarding Men's Parallel Slalom\",\n",
              "       \"Shooting Men's Dueling Pistol, 30 metres\",\n",
              "       \"Cycling Men's 12-Hours Race\",\n",
              "       \"Shooting Men's Free Rifle, Kneeling, 300 metres\",\n",
              "       \"Swimming Men's 200 metres Obstacle Course\",\n",
              "       \"Athletics Men's 3,500 metres Walk\",\n",
              "       \"Swimming Men's 500 metres Freestyle\",\n",
              "       \"Wrestling Men's Unlimited Class, Greco-Roman\",\n",
              "       \"Fencing Men's Foil, Masters, Individual\",\n",
              "       \"Snowboarding Women's Giant Slalom\",\n",
              "       \"Snowboarding Men's Slopestyle\",\n",
              "       \"Weightlifting Men's All-Around Dumbbell Contest\",\n",
              "       \"Athletics Men's 10 mile Walk\", \"Speed Skating Men's Allround\",\n",
              "       \"Shooting Men's Running Target, Single And Double Shot\",\n",
              "       'Art Competitions Mixed Music, Instrumental And Chamber',\n",
              "       \"Shooting Men's Free Pistol, 25 metres\",\n",
              "       \"Shooting Men's Dueling Pistol Au Vise 20 metres\",\n",
              "       \"Athletics Men's Pentathlon (Ancient)\",\n",
              "       \"Shooting Men's Free Rifle, Standing, 300 metres\",\n",
              "       \"Shooting Men's Military Rifle, Standing, 300 metres\",\n",
              "       \"Athletics Men's Discus Throw, Both Hands\",\n",
              "       \"Wrestling Women's Featherweight, Freestyle\",\n",
              "       \"Athletics Men's Shot Put, Both Hands\",\n",
              "       \"Shooting Men's Trap, Single Shot, 16 metres\",\n",
              "       \"Shooting Men's Trap, Double Shot, 14 metres\",\n",
              "       \"Shooting Men's Military Revolver, 20 metres\",\n",
              "       \"Shooting Men's Military Rifle, 1873-1874 Gras Model, Kneeling Or Standing, 200 metres\",\n",
              "       \"Shooting Men's Free Rifle, Prone, 300 metres\",\n",
              "       \"Athletics Men's Javelin Throw, Both Hands\",\n",
              "       \"Archery Men's Au Chapelet, 33 metres\",\n",
              "       \"Archery Men's Au Cordon Dore, 33 metres\",\n",
              "       \"Archery Men's Target Archery, 28 metres, Individual\",\n",
              "       'Aeronautics Mixed Aeronautics',\n",
              "       'Motorboating Mixed A-Class (Open)',\n",
              "       'Art Competitions Mixed Literature, Unknown Event'], dtype=object)"
            ]
          },
          "metadata": {},
          "execution_count": 49
        }
      ]
    },
    {
      "cell_type": "code",
      "metadata": {
        "colab": {
          "base_uri": "https://localhost:8080/"
        },
        "id": "RWUio8atLmXh",
        "outputId": "9bfef8df-41d6-4389-f391-af050d149b2b"
      },
      "source": [
        "pd.Series(df.Medal.unique()) #Gold, Bronze, Silver, Nelson, Nan"
      ],
      "execution_count": 50,
      "outputs": [
        {
          "output_type": "execute_result",
          "data": {
            "text/plain": [
              "0      Gold\n",
              "1       NaN\n",
              "2    Bronze\n",
              "3    Silver\n",
              "dtype: object"
            ]
          },
          "metadata": {},
          "execution_count": 50
        }
      ]
    },
    {
      "cell_type": "markdown",
      "metadata": {
        "id": "mbP_ASyRMmTE"
      },
      "source": [
        "####Trocando os dados categoricos"
      ]
    },
    {
      "cell_type": "code",
      "metadata": {
        "colab": {
          "base_uri": "https://localhost:8080/"
        },
        "id": "bp0MkfqqNcAS",
        "outputId": "99c061fc-cb83-4e20-9a47-2786eb189225"
      },
      "source": [
        "df['Sex'].replace('MALE', 'M', inplace = True)\n",
        "df['Sex'].replace('FEMALE', 'F', inplace = True)\n",
        "pd.Series(df.Sex.unique())"
      ],
      "execution_count": 51,
      "outputs": [
        {
          "output_type": "execute_result",
          "data": {
            "text/plain": [
              "0    M\n",
              "1    F\n",
              "dtype: object"
            ]
          },
          "metadata": {},
          "execution_count": 51
        }
      ]
    },
    {
      "cell_type": "markdown",
      "metadata": {
        "id": "-CFhA7KgP064"
      },
      "source": [
        "####plotar alguns graficos dos dados categoricos"
      ]
    },
    {
      "cell_type": "code",
      "metadata": {
        "colab": {
          "base_uri": "https://localhost:8080/",
          "height": 535
        },
        "id": "mps2zjEsP4RG",
        "outputId": "08790782-2dfa-4e8a-c3bd-583628f8fa62"
      },
      "source": [
        "plt.figure(figsize=(10,8))\n",
        "sns.set_theme(style = 'darkgrid')\n",
        "sns.countplot(x=df[\"Sex\"])\n",
        "plt.title('número de participantes por sexo')\n",
        "plt.xlabel(\"sexo\")\n",
        "plt.ylabel(\"número de pessoas\")\n",
        "plt.show"
      ],
      "execution_count": 52,
      "outputs": [
        {
          "output_type": "execute_result",
          "data": {
            "text/plain": [
              "<function matplotlib.pyplot.show>"
            ]
          },
          "metadata": {},
          "execution_count": 52
        },
        {
          "output_type": "display_data",
          "data": {
            "image/png": "[encoded data removed]",
            "text/plain": [
              "<Figure size 720x576 with 1 Axes>"
            ]
          },
          "metadata": {}
        }
      ]
    },
    {
      "cell_type": "markdown",
      "metadata": {
        "id": "64Ga50_mShoB"
      },
      "source": [
        "há muito mais homens do que mulheres participando nas olimpíadas"
      ]
    },
    {
      "cell_type": "code",
      "metadata": {
        "colab": {
          "base_uri": "https://localhost:8080/",
          "height": 753
        },
        "id": "hlsIMkJWTFe1",
        "outputId": "2f9a469b-c0b8-4ce4-a49b-8c0268e2c878"
      },
      "source": [
        "plt.figure(figsize=(15,12))\n",
        "sns.set_theme(style = 'darkgrid')\n",
        "sns.countplot(x=df[\"Age\"])\n",
        "plt.title('número de participantes por idade')\n",
        "plt.xlabel(\"idade\")\n",
        "plt.ylabel(\"número de pessoas\")\n",
        "plt.show"
      ],
      "execution_count": 53,
      "outputs": [
        {
          "output_type": "execute_result",
          "data": {
            "text/plain": [
              "<function matplotlib.pyplot.show>"
            ]
          },
          "metadata": {},
          "execution_count": 53
        },
        {
          "output_type": "display_data",
          "data": {
            "image/png": "[encoded data removed]",
            "text/plain": [
              "<Figure size 1080x864 with 1 Axes>"
            ]
          },
          "metadata": {}
        }
      ]
    },
    {
      "cell_type": "markdown",
      "metadata": {
        "id": "_ZrCPa7WTo16"
      },
      "source": [
        "um grande numero de participantes tem entre 20 e 30 anos"
      ]
    },
    {
      "cell_type": "markdown",
      "metadata": {
        "id": "rFRiY9kDVP9i"
      },
      "source": [
        "####lidando com dados bizarros"
      ]
    },
    {
      "cell_type": "code",
      "metadata": {
        "colab": {
          "base_uri": "https://localhost:8080/"
        },
        "id": "0XUN-kDKVU_3",
        "outputId": "5fb14d34-5c17-49d3-a362-ae6f91dc3b3e"
      },
      "source": [
        "len(df[df['Sex']=='Vic vai te dar um socao'])"
      ],
      "execution_count": 54,
      "outputs": [
        {
          "output_type": "execute_result",
          "data": {
            "text/plain": [
              "0"
            ]
          },
          "metadata": {},
          "execution_count": 54
        }
      ]
    },
    {
      "cell_type": "code",
      "metadata": {
        "id": "emtbHQzwcHz4"
      },
      "source": [
        "#substituindo pela moda\n",
        "df['Sex'].replace('Vic vai te dar um socao', df['Sex'].mode()[0], inplace=True)"
      ],
      "execution_count": 55,
      "outputs": []
    },
    {
      "cell_type": "code",
      "metadata": {
        "colab": {
          "base_uri": "https://localhost:8080/"
        },
        "id": "e_8CjjtVVoFC",
        "outputId": "9a631400-622c-4a99-ce6a-c48f2e5872d6"
      },
      "source": [
        "len(df[df['Sex']=='P&D >> Comunidade'])"
      ],
      "execution_count": 56,
      "outputs": [
        {
          "output_type": "execute_result",
          "data": {
            "text/plain": [
              "0"
            ]
          },
          "metadata": {},
          "execution_count": 56
        }
      ]
    },
    {
      "cell_type": "code",
      "metadata": {
        "id": "CiRj1PixdchH"
      },
      "source": [
        "#substituindo pela moda\n",
        "df['Sex'].replace('P&D >> Comunidade', df['Sex'].mode()[0], inplace=True)"
      ],
      "execution_count": 57,
      "outputs": []
    },
    {
      "cell_type": "code",
      "metadata": {
        "colab": {
          "base_uri": "https://localhost:8080/"
        },
        "id": "l-UPnc3ZaEiD",
        "outputId": "05739f07-6731-4fd8-fe51-e6c94d6379ab"
      },
      "source": [
        "len(df[df['Season']=='#ForaBolsonaro'])"
      ],
      "execution_count": 58,
      "outputs": [
        {
          "output_type": "execute_result",
          "data": {
            "text/plain": [
              "0"
            ]
          },
          "metadata": {},
          "execution_count": 58
        }
      ]
    },
    {
      "cell_type": "code",
      "metadata": {
        "id": "rz0mjdtRdlDS"
      },
      "source": [
        "#substituindo pela moda\n",
        "df['Season'].replace('#ForaBolsonaro', df['Season'].mode()[0], inplace=True)"
      ],
      "execution_count": 59,
      "outputs": []
    },
    {
      "cell_type": "code",
      "metadata": {
        "colab": {
          "base_uri": "https://localhost:8080/"
        },
        "id": "LTJlsymWaMGx",
        "outputId": "e87715fc-6eae-4929-c841-e87e992e3746"
      },
      "source": [
        "len(df[df['Season']=='Ele nunca'])"
      ],
      "execution_count": 60,
      "outputs": [
        {
          "output_type": "execute_result",
          "data": {
            "text/plain": [
              "0"
            ]
          },
          "metadata": {},
          "execution_count": 60
        }
      ]
    },
    {
      "cell_type": "code",
      "metadata": {
        "id": "De5i_5WPdux5"
      },
      "source": [
        "#substituindo pela moda\n",
        "df['Season'].replace('Ele nunca', df['Season'].mode()[0], inplace=True)"
      ],
      "execution_count": 61,
      "outputs": []
    },
    {
      "cell_type": "code",
      "metadata": {
        "colab": {
          "base_uri": "https://localhost:8080/"
        },
        "id": "_2lYZk3NaP5m",
        "outputId": "bb90a51d-8368-4528-b1fe-d76e9fb16d05"
      },
      "source": [
        "len(df[df['Season']=='Ele não'])"
      ],
      "execution_count": 62,
      "outputs": [
        {
          "output_type": "execute_result",
          "data": {
            "text/plain": [
              "0"
            ]
          },
          "metadata": {},
          "execution_count": 62
        }
      ]
    },
    {
      "cell_type": "code",
      "metadata": {
        "id": "WoFHig_ed0Gd"
      },
      "source": [
        "#substituindo pela moda\n",
        "df['Season'].replace('Ele não', df['Season'].mode()[0], inplace=True)"
      ],
      "execution_count": 63,
      "outputs": []
    },
    {
      "cell_type": "code",
      "metadata": {
        "colab": {
          "base_uri": "https://localhost:8080/"
        },
        "id": "D6EBlCD8aY-O",
        "outputId": "ffca4ebf-ac7a-4ca9-8456-a208517d56b8"
      },
      "source": [
        "len(df[df['City']=='######'])"
      ],
      "execution_count": 64,
      "outputs": [
        {
          "output_type": "execute_result",
          "data": {
            "text/plain": [
              "0"
            ]
          },
          "metadata": {},
          "execution_count": 64
        }
      ]
    },
    {
      "cell_type": "code",
      "metadata": {
        "id": "nhxH9qzRd3xk"
      },
      "source": [
        "#substituindo pela moda\n",
        "df['City'].replace('######', df['City'].mode()[0], inplace=True)"
      ],
      "execution_count": 65,
      "outputs": []
    },
    {
      "cell_type": "code",
      "metadata": {
        "colab": {
          "base_uri": "https://localhost:8080/"
        },
        "id": "p5WCwqdsai-S",
        "outputId": "fe0c9266-e334-47a1-f8eb-47ffa174411e"
      },
      "source": [
        "len(df[df['Medal']=='Nelson'])"
      ],
      "execution_count": 66,
      "outputs": [
        {
          "output_type": "execute_result",
          "data": {
            "text/plain": [
              "0"
            ]
          },
          "metadata": {},
          "execution_count": 66
        }
      ]
    },
    {
      "cell_type": "code",
      "metadata": {
        "id": "dYb0AcL7d4b9"
      },
      "source": [
        "#substituindo pela moda\n",
        "df['Medal'].replace('Nelson', df['Medal'].mode()[0], inplace=True)"
      ],
      "execution_count": 67,
      "outputs": []
    },
    {
      "cell_type": "code",
      "metadata": {
        "colab": {
          "base_uri": "https://localhost:8080/"
        },
        "id": "35Yx-QBfZ4pN",
        "outputId": "e5ea6296-ce98-4ad9-9982-81671a71b305"
      },
      "source": [
        "len(df[df['Sport']=='Art Competitions'])"
      ],
      "execution_count": 68,
      "outputs": [
        {
          "output_type": "execute_result",
          "data": {
            "text/plain": [
              "0"
            ]
          },
          "metadata": {},
          "execution_count": 68
        }
      ]
    },
    {
      "cell_type": "code",
      "metadata": {
        "id": "icn2YOE1d5EP"
      },
      "source": [
        "#substituindo pela moda\n",
        "df['Sport'].replace('Art Competitions', df['Sport'].mode()[0], inplace=True)"
      ],
      "execution_count": 72,
      "outputs": []
    },
    {
      "cell_type": "markdown",
      "metadata": {
        "id": "eVHXUw_jeejl"
      },
      "source": [
        "####plotando alguns outros gráficos"
      ]
    },
    {
      "cell_type": "code",
      "metadata": {
        "colab": {
          "base_uri": "https://localhost:8080/",
          "height": 535
        },
        "id": "Y4kHTsPTepkt",
        "outputId": "086a1f9f-fb3b-492f-9a82-a3ad64b9124a"
      },
      "source": [
        "plt.figure(figsize=(10,8))\n",
        "sns.set_theme(style = 'darkgrid')\n",
        "sns.countplot(x=df[\"Sex\"])\n",
        "plt.title('número de participantes por sexo')\n",
        "plt.xlabel(\"sexo\")\n",
        "plt.ylabel(\"número de pessoas\")\n",
        "plt.show"
      ],
      "execution_count": 70,
      "outputs": [
        {
          "output_type": "execute_result",
          "data": {
            "text/plain": [
              "<function matplotlib.pyplot.show>"
            ]
          },
          "metadata": {},
          "execution_count": 70
        },
        {
          "output_type": "display_data",
          "data": {
            "image/png": "[encoded data removed]",
            "text/plain": [
              "<Figure size 720x576 with 1 Axes>"
            ]
          },
          "metadata": {}
        }
      ]
    },
    {
      "cell_type": "markdown",
      "metadata": {
        "id": "_A5yOqVwe1gn"
      },
      "source": [
        "Há muito mais homens do que mulheres. "
      ]
    },
    {
      "cell_type": "code",
      "metadata": {
        "colab": {
          "base_uri": "https://localhost:8080/",
          "height": 535
        },
        "id": "FhMASIGRfLE6",
        "outputId": "6af8ad40-307a-40fa-e2c4-b3238cbeb3d6"
      },
      "source": [
        "plt.figure(figsize=(10,8))\n",
        "sns.set_theme(style = 'darkgrid')\n",
        "sns.countplot(x=df[\"Season\"])\n",
        "plt.title('número de edições por estação')\n",
        "plt.xlabel(\"estação\")\n",
        "plt.ylabel(\"número de edições\")\n",
        "plt.show"
      ],
      "execution_count": 71,
      "outputs": [
        {
          "output_type": "execute_result",
          "data": {
            "text/plain": [
              "<function matplotlib.pyplot.show>"
            ]
          },
          "metadata": {},
          "execution_count": 71
        },
        {
          "output_type": "display_data",
          "data": {
            "image/png": "[encoded data removed]",
            "text/plain": [
              "<Figure size 720x576 with 1 Axes>"
            ]
          },
          "metadata": {}
        }
      ]
    },
    {
      "cell_type": "markdown",
      "metadata": {
        "id": "IcsVLa13fRHZ"
      },
      "source": [
        "Há mais edições de verão do que de inverno. Talvez jogos de verão sejam mais populares ou numerosos (?)"
      ]
    },
    {
      "cell_type": "code",
      "metadata": {
        "colab": {
          "base_uri": "https://localhost:8080/",
          "height": 1000
        },
        "id": "63lBww-Efa7J",
        "outputId": "f8f7941d-0792-4ca4-f69e-895036227d18"
      },
      "source": [
        "plt.figure(figsize=(30,24))\n",
        "sns.set_theme(style = 'darkgrid')\n",
        "sns.countplot(x=df[\"Sport\"])\n",
        "plt.title('')\n",
        "plt.xlabel(\"\")\n",
        "plt.ylabel(\"\")\n",
        "plt.show"
      ],
      "execution_count": 75,
      "outputs": [
        {
          "output_type": "execute_result",
          "data": {
            "text/plain": [
              "<function matplotlib.pyplot.show>"
            ]
          },
          "metadata": {},
          "execution_count": 75
        },
        {
          "output_type": "display_data",
          "data": {
            "image/png": "[encoded data removed]",
            "text/plain": [
              "<Figure size 2160x1728 with 1 Axes>"
            ]
          },
          "metadata": {}
        }
      ]
    },
    {
      "cell_type": "markdown",
      "metadata": {
        "id": "vdDsY_z0bCV-"
      },
      "source": [
        "###trabalhar com dados numericos"
      ]
    },
    {
      "cell_type": "code",
      "metadata": {
        "colab": {
          "base_uri": "https://localhost:8080/",
          "height": 297
        },
        "id": "Ncz4P5jBbNdp",
        "outputId": "2c05e1dd-048b-41d3-e51c-e26e7048e12e"
      },
      "source": [
        "df.describe()"
      ],
      "execution_count": 4,
      "outputs": [
        {
          "output_type": "execute_result",
          "data": {
            "text/html": [
              "<div>\n",
              "<style scoped>\n",
              "    .dataframe tbody tr th:only-of-type {\n",
              "        vertical-align: middle;\n",
              "    }\n",
              "\n",
              "    .dataframe tbody tr th {\n",
              "        vertical-align: top;\n",
              "    }\n",
              "\n",
              "    .dataframe thead th {\n",
              "        text-align: right;\n",
              "    }\n",
              "</style>\n",
              "<table border=\"1\" class=\"dataframe\">\n",
              "  <thead>\n",
              "    <tr style=\"text-align: right;\">\n",
              "      <th></th>\n",
              "      <th>Athlete_ID</th>\n",
              "      <th>Age</th>\n",
              "      <th>Height</th>\n",
              "      <th>Year</th>\n",
              "    </tr>\n",
              "  </thead>\n",
              "  <tbody>\n",
              "    <tr>\n",
              "      <th>count</th>\n",
              "      <td>45567.000000</td>\n",
              "      <td>44594.000000</td>\n",
              "      <td>3.554700e+04</td>\n",
              "      <td>45567.000000</td>\n",
              "    </tr>\n",
              "    <tr>\n",
              "      <th>mean</th>\n",
              "      <td>69129.286282</td>\n",
              "      <td>25.851348</td>\n",
              "      <td>9.729939e+02</td>\n",
              "      <td>1972.391094</td>\n",
              "    </tr>\n",
              "    <tr>\n",
              "      <th>std</th>\n",
              "      <td>38866.485546</td>\n",
              "      <td>5.966053</td>\n",
              "      <td>3.446781e+04</td>\n",
              "      <td>94.200678</td>\n",
              "    </tr>\n",
              "    <tr>\n",
              "      <th>min</th>\n",
              "      <td>4.000000</td>\n",
              "      <td>10.000000</td>\n",
              "      <td>1.320000e+02</td>\n",
              "      <td>-2992.000000</td>\n",
              "    </tr>\n",
              "    <tr>\n",
              "      <th>25%</th>\n",
              "      <td>36105.500000</td>\n",
              "      <td>22.000000</td>\n",
              "      <td>1.700000e+02</td>\n",
              "      <td>1952.000000</td>\n",
              "    </tr>\n",
              "    <tr>\n",
              "      <th>50%</th>\n",
              "      <td>68634.000000</td>\n",
              "      <td>25.000000</td>\n",
              "      <td>1.780000e+02</td>\n",
              "      <td>1984.000000</td>\n",
              "    </tr>\n",
              "    <tr>\n",
              "      <th>75%</th>\n",
              "      <td>103181.000000</td>\n",
              "      <td>29.000000</td>\n",
              "      <td>1.850000e+02</td>\n",
              "      <td>2002.000000</td>\n",
              "    </tr>\n",
              "    <tr>\n",
              "      <th>max</th>\n",
              "      <td>135563.000000</td>\n",
              "      <td>73.000000</td>\n",
              "      <td>1.976779e+06</td>\n",
              "      <td>2016.000000</td>\n",
              "    </tr>\n",
              "  </tbody>\n",
              "</table>\n",
              "</div>"
            ],
            "text/plain": [
              "          Athlete_ID           Age        Height          Year\n",
              "count   45567.000000  44594.000000  3.554700e+04  45567.000000\n",
              "mean    69129.286282     25.851348  9.729939e+02   1972.391094\n",
              "std     38866.485546      5.966053  3.446781e+04     94.200678\n",
              "min         4.000000     10.000000  1.320000e+02  -2992.000000\n",
              "25%     36105.500000     22.000000  1.700000e+02   1952.000000\n",
              "50%     68634.000000     25.000000  1.780000e+02   1984.000000\n",
              "75%    103181.000000     29.000000  1.850000e+02   2002.000000\n",
              "max    135563.000000     73.000000  1.976779e+06   2016.000000"
            ]
          },
          "metadata": {},
          "execution_count": 4
        }
      ]
    },
    {
      "cell_type": "markdown",
      "metadata": {
        "id": "gjEmIIWSe8MV"
      },
      "source": [
        "####Year"
      ]
    },
    {
      "cell_type": "code",
      "metadata": {
        "colab": {
          "base_uri": "https://localhost:8080/",
          "height": 366
        },
        "id": "VSAk_LTZcVH6",
        "outputId": "a442bf76-d061-4636-ae11-9adc32077b32"
      },
      "source": [
        "sns.distplot(df[\"Year\"].dropna())\n",
        "plt.title('número de participantes por edição')\n",
        "plt.xlabel(\"ano da edição\")\n",
        "plt.ylabel(\"número de participantes\")\n",
        "plt.show"
      ],
      "execution_count": 33,
      "outputs": [
        {
          "output_type": "stream",
          "name": "stderr",
          "text": [
            "/usr/local/lib/python3.7/dist-packages/seaborn/distributions.py:2619: FutureWarning: `distplot` is a deprecated function and will be removed in a future version. Please adapt your code to use either `displot` (a figure-level function with similar flexibility) or `histplot` (an axes-level function for histograms).\n",
            "  warnings.warn(msg, FutureWarning)\n"
          ]
        },
        {
          "output_type": "execute_result",
          "data": {
            "text/plain": [
              "<function matplotlib.pyplot.show>"
            ]
          },
          "metadata": {},
          "execution_count": 33
        },
        {
          "output_type": "display_data",
          "data": {
            "image/png": "[encoded data removed]",
            "text/plain": [
              "<Figure size 432x288 with 1 Axes>"
            ]
          },
          "metadata": {
            "needs_background": "light"
          }
        }
      ]
    },
    {
      "cell_type": "markdown",
      "metadata": {
        "id": "geDPbHaLepE0"
      },
      "source": [
        "Há outliers"
      ]
    },
    {
      "cell_type": "code",
      "metadata": {
        "id": "bBXzbLzOd6Ll"
      },
      "source": [
        "df = df[df[\"Year\"] >= 1896]\n",
        "df = df[df[\"Year\"] < 2022]"
      ],
      "execution_count": 34,
      "outputs": []
    },
    {
      "cell_type": "code",
      "metadata": {
        "colab": {
          "base_uri": "https://localhost:8080/",
          "height": 366
        },
        "id": "mvDn7NpreKBf",
        "outputId": "731aecd6-724a-46ce-ccd2-361af88af137"
      },
      "source": [
        "sns.distplot(df[\"Year\"].dropna())\n",
        "plt.title('número de participantes por edição')\n",
        "plt.xlabel(\"ano da edição\")\n",
        "plt.ylabel(\"número de participantes\")\n",
        "plt.show"
      ],
      "execution_count": 35,
      "outputs": [
        {
          "output_type": "stream",
          "name": "stderr",
          "text": [
            "/usr/local/lib/python3.7/dist-packages/seaborn/distributions.py:2619: FutureWarning: `distplot` is a deprecated function and will be removed in a future version. Please adapt your code to use either `displot` (a figure-level function with similar flexibility) or `histplot` (an axes-level function for histograms).\n",
            "  warnings.warn(msg, FutureWarning)\n"
          ]
        },
        {
          "output_type": "execute_result",
          "data": {
            "text/plain": [
              "<function matplotlib.pyplot.show>"
            ]
          },
          "metadata": {},
          "execution_count": 35
        },
        {
          "output_type": "display_data",
          "data": {
            "image/png": "[encoded data removed]",
            "text/plain": [
              "<Figure size 432x288 with 1 Axes>"
            ]
          },
          "metadata": {
            "needs_background": "light"
          }
        }
      ]
    },
    {
      "cell_type": "code",
      "metadata": {
        "colab": {
          "base_uri": "https://localhost:8080/"
        },
        "id": "eRW298NNmtob",
        "outputId": "cd43aacb-68eb-447e-9b12-98adb5ddfe7f"
      },
      "source": [
        "len(df[df['Year']=='NaN'])"
      ],
      "execution_count": 36,
      "outputs": [
        {
          "output_type": "execute_result",
          "data": {
            "text/plain": [
              "0"
            ]
          },
          "metadata": {},
          "execution_count": 36
        }
      ]
    },
    {
      "cell_type": "markdown",
      "metadata": {
        "id": "SR4pOV7zfHAF"
      },
      "source": [
        "####Age"
      ]
    },
    {
      "cell_type": "code",
      "metadata": {
        "colab": {
          "base_uri": "https://localhost:8080/",
          "height": 482
        },
        "id": "Xz_a24dQhHRl",
        "outputId": "9705f874-7d95-4acf-a661-644650d9a17c"
      },
      "source": [
        "plt.figure(figsize=(5,8))\n",
        "sns.boxplot(y=df['Age'])\n",
        "plt.title(\"Boxplot da coluna de Idade (AGE)\")\n",
        "plt.show()"
      ],
      "execution_count": 80,
      "outputs": [
        {
          "output_type": "display_data",
          "data": {
            "image/png": "[encoded data removed]",
            "text/plain": [
              "<Figure size 360x576 with 1 Axes>"
            ]
          },
          "metadata": {}
        }
      ]
    },
    {
      "cell_type": "markdown",
      "metadata": {
        "id": "wlUdLQSXhi9h"
      },
      "source": [
        "Há outliers. Pessoa mais velha que já participou de olimpíada tinha 72 anos e mais nova, 13 anos."
      ]
    },
    {
      "cell_type": "code",
      "metadata": {
        "colab": {
          "base_uri": "https://localhost:8080/",
          "height": 372
        },
        "id": "M8qUWsLke65Q",
        "outputId": "dfbe6138-3e75-470c-9d15-392bb7b816a8"
      },
      "source": [
        "df = df[df['Age'] > 12]\n",
        "df = df[df['Age'] <= 72]\n",
        "\n",
        "sns.distplot(df[\"Age\"].dropna())\n",
        "plt.title('número de participantes por idade')\n",
        "plt.xlabel(\"idade\")\n",
        "plt.ylabel(\"número de participantes\")\n",
        "plt.show"
      ],
      "execution_count": 82,
      "outputs": [
        {
          "output_type": "stream",
          "name": "stderr",
          "text": [
            "/usr/local/lib/python3.7/dist-packages/seaborn/distributions.py:2619: FutureWarning: `distplot` is a deprecated function and will be removed in a future version. Please adapt your code to use either `displot` (a figure-level function with similar flexibility) or `histplot` (an axes-level function for histograms).\n",
            "  warnings.warn(msg, FutureWarning)\n"
          ]
        },
        {
          "output_type": "execute_result",
          "data": {
            "text/plain": [
              "<function matplotlib.pyplot.show>"
            ]
          },
          "metadata": {},
          "execution_count": 82
        },
        {
          "output_type": "display_data",
          "data": {
            "image/png": "[encoded data removed]",
            "text/plain": [
              "<Figure size 432x288 with 1 Axes>"
            ]
          },
          "metadata": {}
        }
      ]
    },
    {
      "cell_type": "markdown",
      "metadata": {
        "id": "iqt6JgEdiK74"
      },
      "source": [
        "A maioria dos atletas tem entre 20 e 30 anos."
      ]
    }
  ]
}